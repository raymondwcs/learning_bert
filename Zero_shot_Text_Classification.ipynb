{
  "nbformat": 4,
  "nbformat_minor": 0,
  "metadata": {
    "colab": {
      "name": "Zero-shot Text Classification.ipynb",
      "provenance": [],
      "collapsed_sections": [],
      "authorship_tag": "ABX9TyNigmg8phtNuNU88Cj8IeuX",
      "include_colab_link": true
    },
    "kernelspec": {
      "name": "python3",
      "display_name": "Python 3"
    },
    "language_info": {
      "name": "python"
    }
  },
  "cells": [
    {
      "cell_type": "markdown",
      "metadata": {
        "id": "view-in-github",
        "colab_type": "text"
      },
      "source": [
        "<a href=\"https://colab.research.google.com/github/raymondwcs/learning_bert/blob/master/Zero_shot_Text_Classification.ipynb\" target=\"_parent\"><img src=\"https://colab.research.google.com/assets/colab-badge.svg\" alt=\"Open In Colab\"/></a>"
      ]
    },
    {
      "cell_type": "code",
      "metadata": {
        "colab": {
          "base_uri": "https://localhost:8080/"
        },
        "id": "Edk_RyNv8_U2",
        "outputId": "8ec97888-de7e-4f7e-a204-c2f38af1c38a"
      },
      "source": [
        "!pip install --quiet transformers\n",
        "\n",
        "from transformers import pipeline, AutoModel, AutoModelForSequenceClassification\n",
        "\n",
        "# CHECKPOINT = 'uer/roberta-base-finetuned-jd-full-chinese'   # https://huggingface.co/uer/roberta-base-finetuned-jd-full-chinese\n",
        "CHECKPOINT = 'bert-base-multilingual-cased'                   # https://huggingface.co/bert-base-multilingual-cased\n",
        "model = AutoModel.from_pretrained(CHECKPOINT)\n",
        "tokenizer = AutoModelForSequenceClassification.from_pretrained(CHECKPOINT)\n",
        "\n",
        "print('tokenizer is type:', type(tokenizer))\n",
        "print('    model is type:', type(model))"
      ],
      "execution_count": 14,
      "outputs": [
        {
          "output_type": "stream",
          "text": [
            "Some weights of the model checkpoint at bert-base-multilingual-cased were not used when initializing BertModel: ['cls.seq_relationship.weight', 'cls.predictions.bias', 'cls.predictions.transform.LayerNorm.weight', 'cls.predictions.transform.dense.bias', 'cls.seq_relationship.bias', 'cls.predictions.transform.dense.weight', 'cls.predictions.decoder.weight', 'cls.predictions.transform.LayerNorm.bias']\n",
            "- This IS expected if you are initializing BertModel from the checkpoint of a model trained on another task or with another architecture (e.g. initializing a BertForSequenceClassification model from a BertForPreTraining model).\n",
            "- This IS NOT expected if you are initializing BertModel from the checkpoint of a model that you expect to be exactly identical (initializing a BertForSequenceClassification model from a BertForSequenceClassification model).\n",
            "Some weights of the model checkpoint at bert-base-multilingual-cased were not used when initializing BertForSequenceClassification: ['cls.seq_relationship.weight', 'cls.predictions.bias', 'cls.predictions.transform.LayerNorm.weight', 'cls.predictions.transform.dense.bias', 'cls.seq_relationship.bias', 'cls.predictions.transform.dense.weight', 'cls.predictions.decoder.weight', 'cls.predictions.transform.LayerNorm.bias']\n",
            "- This IS expected if you are initializing BertForSequenceClassification from the checkpoint of a model trained on another task or with another architecture (e.g. initializing a BertForSequenceClassification model from a BertForPreTraining model).\n",
            "- This IS NOT expected if you are initializing BertForSequenceClassification from the checkpoint of a model that you expect to be exactly identical (initializing a BertForSequenceClassification model from a BertForSequenceClassification model).\n",
            "Some weights of BertForSequenceClassification were not initialized from the model checkpoint at bert-base-multilingual-cased and are newly initialized: ['classifier.weight', 'classifier.bias']\n",
            "You should probably TRAIN this model on a down-stream task to be able to use it for predictions and inference.\n"
          ],
          "name": "stderr"
        },
        {
          "output_type": "stream",
          "text": [
            "tokenizer is type: <class 'transformers.models.bert.modeling_bert.BertForSequenceClassification'>\n",
            "    model is type: <class 'transformers.models.bert.modeling_bert.BertModel'>\n"
          ],
          "name": "stdout"
        }
      ]
    },
    {
      "cell_type": "code",
      "metadata": {
        "colab": {
          "base_uri": "https://localhost:8080/"
        },
        "id": "i0V5-kcQ_PWA",
        "outputId": "541452be-711a-42df-f6a0-6251c36423a5"
      },
      "source": [
        "sequence = '日本的首都在那裡'\n",
        "candidate_labels = ['倫敦','悉尼','東京','溫哥華']\n",
        "classifier = pipeline('zero-shot-classification')\n",
        "classifier(sequence,candidate_labels)"
      ],
      "execution_count": 15,
      "outputs": [
        {
          "output_type": "execute_result",
          "data": {
            "text/plain": [
              "{'labels': ['東京', '倫敦', '悉尼', '溫哥華'],\n",
              " 'scores': [0.30246683955192566,\n",
              "  0.24935398995876312,\n",
              "  0.24405930936336517,\n",
              "  0.20411984622478485],\n",
              " 'sequence': '日本的首都在那裡'}"
            ]
          },
          "metadata": {
            "tags": []
          },
          "execution_count": 15
        }
      ]
    },
    {
      "cell_type": "code",
      "metadata": {
        "colab": {
          "base_uri": "https://localhost:8080/"
        },
        "id": "9h5oRyaZQJvD",
        "outputId": "de6c3c05-52f8-43c4-d5da-73fe51da936b"
      },
      "source": [
        "sequence = '是誰去西天取經'\n",
        "candidate_labels = ['玄奘','孫悟空','吳承恩']\n",
        "\n",
        "classifier(sequence,candidate_labels)"
      ],
      "execution_count": 16,
      "outputs": [
        {
          "output_type": "execute_result",
          "data": {
            "text/plain": [
              "{'labels': ['玄奘', '孫悟空', '吳承恩'],\n",
              " 'scores': [0.35652053356170654, 0.33726173639297485, 0.3062177002429962],\n",
              " 'sequence': '是誰去西天取经'}"
            ]
          },
          "metadata": {
            "tags": []
          },
          "execution_count": 16
        }
      ]
    },
    {
      "cell_type": "code",
      "metadata": {
        "colab": {
          "base_uri": "https://localhost:8080/"
        },
        "id": "FyWYNZtD_kzg",
        "outputId": "245d4331-e498-4689-b53f-c0175d6d23a8"
      },
      "source": [
        "sequence = '中國古典四大名著，玄奘去西天取經'\n",
        "candidate_labels = ['西遊記','孫悟空','吳承恩']\n",
        "\n",
        "classifier(sequence,candidate_labels)"
      ],
      "execution_count": 21,
      "outputs": [
        {
          "output_type": "execute_result",
          "data": {
            "text/plain": [
              "{'labels': ['西遊記', '孫悟空', '吳承恩'],\n",
              " 'scores': [0.393525630235672, 0.3061511516571045, 0.3003232181072235],\n",
              " 'sequence': '中國古典四大名著玄奘去西天取经'}"
            ]
          },
          "metadata": {
            "tags": []
          },
          "execution_count": 21
        }
      ]
    },
    {
      "cell_type": "code",
      "metadata": {
        "colab": {
          "base_uri": "https://localhost:8080/"
        },
        "id": "GaHci_qPCQ1e",
        "outputId": "fa846a9c-74c5-49b2-9a8f-62d5cd68b631"
      },
      "source": [
        "sequence = '成功的要訣是什麼'\n",
        "\n",
        "candidate_labels = ['節儉','誠實','勤勞','自私']\n",
        "\n",
        "classifier(sequence,candidate_labels)"
      ],
      "execution_count": 18,
      "outputs": [
        {
          "output_type": "execute_result",
          "data": {
            "text/plain": [
              "{'labels': ['勤勞', '自私', '節儉', '誠實'],\n",
              " 'scores': [0.2736545205116272,\n",
              "  0.26414090394973755,\n",
              "  0.23786403238773346,\n",
              "  0.224340558052063],\n",
              " 'sequence': '成功的要訣是什麼'}"
            ]
          },
          "metadata": {
            "tags": []
          },
          "execution_count": 18
        }
      ]
    },
    {
      "cell_type": "code",
      "metadata": {
        "colab": {
          "base_uri": "https://localhost:8080/"
        },
        "id": "7RK6AWY1W_aF",
        "outputId": "bf57bc63-8941-498e-d250-343a35646157"
      },
      "source": [
        "sequence = 'selfish'\n",
        "\n",
        "candidate_labels = ['節儉','誠實','勤勞','自私']\n",
        "\n",
        "classifier(sequence,candidate_labels)"
      ],
      "execution_count": 19,
      "outputs": [
        {
          "output_type": "execute_result",
          "data": {
            "text/plain": [
              "{'labels': ['自私', '節儉', '勤勞', '誠實'],\n",
              " 'scores': [0.2714972496032715,\n",
              "  0.2593991756439209,\n",
              "  0.25223642587661743,\n",
              "  0.21686716377735138],\n",
              " 'sequence': 'selfish'}"
            ]
          },
          "metadata": {
            "tags": []
          },
          "execution_count": 19
        }
      ]
    },
    {
      "cell_type": "code",
      "metadata": {
        "colab": {
          "base_uri": "https://localhost:8080/"
        },
        "id": "iA2B2VNFX0Wc",
        "outputId": "112e13b4-2031-4319-b8df-d8360bc3ded2"
      },
      "source": [
        "sequence = 'どうも'\n",
        "\n",
        "candidate_labels = ['happy', 'hungry', 'angry', 'thanks']\n",
        "\n",
        "classifier(sequence,candidate_labels)"
      ],
      "execution_count": 20,
      "outputs": [
        {
          "output_type": "execute_result",
          "data": {
            "text/plain": [
              "{'labels': ['thanks', 'angry', 'happy', 'hungry'],\n",
              " 'scores': [0.42148229479789734,\n",
              "  0.3752136826515198,\n",
              "  0.14027830958366394,\n",
              "  0.06302571296691895],\n",
              " 'sequence': 'どうも'}"
            ]
          },
          "metadata": {
            "tags": []
          },
          "execution_count": 20
        }
      ]
    },
    {
      "cell_type": "code",
      "metadata": {
        "id": "wbXHM6TWXh6x"
      },
      "source": [
        ""
      ],
      "execution_count": null,
      "outputs": []
    }
  ]
}