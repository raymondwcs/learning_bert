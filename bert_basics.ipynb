{
 "cells": [
  {
   "cell_type": "markdown",
   "metadata": {},
   "source": [
    "http://mccormickml.com/2019/05/14/BERT-word-embeddings-tutorial/"
   ]
  },
  {
   "cell_type": "code",
   "execution_count": 107,
   "metadata": {},
   "outputs": [
    {
     "name": "stdout",
     "output_type": "stream",
     "text": [
      "huggingface/tokenizers: The current process just got forked, after parallelism has already been used. Disabling parallelism to avoid deadlocks...\n",
      "To disable this warning, you can either:\n",
      "\t- Avoid using `tokenizers` before the fork if possible\n",
      "\t- Explicitly set the environment variable TOKENIZERS_PARALLELISM=(true | false)\n"
     ]
    }
   ],
   "source": [
    "from transformers import AutoTokenizer, AutoModel\n",
    "import numpy as np\n",
    "import pandas as pd\n",
    "import torch\n",
    "import matplotlib.pyplot as plt"
   ]
  },
  {
   "cell_type": "code",
   "execution_count": 40,
   "metadata": {},
   "outputs": [
    {
     "name": "stderr",
     "output_type": "stream",
     "text": [
      "Some weights of the model checkpoint at bert-base-chinese were not used when initializing BertModel: ['cls.predictions.transform.dense.bias', 'cls.seq_relationship.weight', 'cls.predictions.transform.dense.weight', 'cls.predictions.transform.LayerNorm.bias', 'cls.predictions.transform.LayerNorm.weight', 'cls.predictions.decoder.weight', 'cls.seq_relationship.bias', 'cls.predictions.bias']\n",
      "- This IS expected if you are initializing BertModel from the checkpoint of a model trained on another task or with another architecture (e.g. initializing a BertForSequenceClassification model from a BertForPreTraining model).\n",
      "- This IS NOT expected if you are initializing BertModel from the checkpoint of a model that you expect to be exactly identical (initializing a BertForSequenceClassification model from a BertForSequenceClassification model).\n"
     ]
    }
   ],
   "source": [
    "tokenizer = AutoTokenizer.from_pretrained('bert-base-chinese')\n",
    "model = AutoModel.from_pretrained('bert-base-chinese',output_hidden_states=True)"
   ]
  },
  {
   "cell_type": "code",
   "execution_count": 84,
   "metadata": {},
   "outputs": [
    {
     "name": "stdout",
     "output_type": "stream",
     "text": [
      "['多', '唔', '多', '人', '琴', '日', '追', '129', '##9', 'ai', '##a', '。', '這', '隻', '野', '好', '難', '玩', '10', '年', '唔', '鬱', '一', '鬱', '就', '幾', '年', '升', '幅', '行', '曬', '[UNK]']\n"
     ]
    }
   ],
   "source": [
    "text = \"多唔多人琴日追1299 aia。這隻野好難玩 10年唔鬱 一鬱就幾年升幅行曬 🤮\"\n",
    "\n",
    "tokens = tokenizer.tokenize(text)\n",
    "print(tokens)"
   ]
  },
  {
   "cell_type": "code",
   "execution_count": 85,
   "metadata": {},
   "outputs": [
    {
     "name": "stdout",
     "output_type": "stream",
     "text": [
      "[1914, 1540, 1914, 782, 4433, 3189, 6841, 8990, 8160, 8578, 8139, 511, 6857, 7407, 7029, 1962, 7432, 4381, 8108, 2399, 1540, 7786, 671, 7786, 2218, 2407, 2399, 1285, 2388, 6121, 3287, 100]\n"
     ]
    }
   ],
   "source": [
    "indexed_tokens = tokenizer.convert_tokens_to_ids(tokens)\n",
    "print(indexed_tokens)"
   ]
  },
  {
   "cell_type": "code",
   "execution_count": 86,
   "metadata": {},
   "outputs": [
    {
     "name": "stdout",
     "output_type": "stream",
     "text": [
      "多\n",
      "唔\n",
      "多\n",
      "人\n",
      "琴\n",
      "日\n",
      "追\n",
      "129\n",
      "##9\n",
      "ai\n",
      "##a\n",
      "。\n",
      "這\n",
      "隻\n",
      "野\n",
      "好\n",
      "難\n",
      "玩\n",
      "10\n",
      "年\n",
      "唔\n",
      "鬱\n",
      "一\n",
      "鬱\n",
      "就\n",
      "幾\n",
      "年\n",
      "升\n",
      "幅\n",
      "行\n",
      "曬\n",
      "[UNK]\n",
      "多 唔 多 人 琴 日 追 1299 aia 。 這 隻 野 好 難 玩 10 年 唔 鬱 一 鬱 就 幾 年 升 幅 行 曬 [UNK]\n"
     ]
    }
   ],
   "source": [
    "for token in indexed_tokens:\n",
    "    print(tokenizer.convert_ids_to_tokens(token))\n",
    "\n",
    "print(tokenizer.convert_tokens_to_string(tokens))"
   ]
  },
  {
   "cell_type": "code",
   "execution_count": 87,
   "metadata": {},
   "outputs": [
    {
     "name": "stdout",
     "output_type": "stream",
     "text": [
      "Ignored unknown kwarg option direction\n",
      "{'input_ids': tensor([[ 101, 1914, 1540, 1914,  782, 4433, 3189, 6841, 8990, 8160, 8578, 8139,\n",
      "          511, 6857, 7407, 7029, 1962, 7432, 4381, 8108, 2399, 1540, 7786,  671,\n",
      "         7786, 2218, 2407, 2399, 1285, 2388, 6121, 3287,  100,  102,    0,    0,\n",
      "            0,    0,    0,    0,    0,    0,    0,    0,    0,    0,    0,    0,\n",
      "            0,    0,    0,    0,    0,    0,    0,    0,    0,    0,    0,    0,\n",
      "            0,    0,    0,    0,    0,    0,    0,    0,    0,    0,    0,    0,\n",
      "            0,    0,    0,    0,    0,    0,    0,    0]]), 'token_type_ids': tensor([[0, 0, 0, 0, 0, 0, 0, 0, 0, 0, 0, 0, 0, 0, 0, 0, 0, 0, 0, 0, 0, 0, 0, 0,\n",
      "         0, 0, 0, 0, 0, 0, 0, 0, 0, 0, 0, 0, 0, 0, 0, 0, 0, 0, 0, 0, 0, 0, 0, 0,\n",
      "         0, 0, 0, 0, 0, 0, 0, 0, 0, 0, 0, 0, 0, 0, 0, 0, 0, 0, 0, 0, 0, 0, 0, 0,\n",
      "         0, 0, 0, 0, 0, 0, 0, 0]]), 'attention_mask': tensor([[1, 1, 1, 1, 1, 1, 1, 1, 1, 1, 1, 1, 1, 1, 1, 1, 1, 1, 1, 1, 1, 1, 1, 1,\n",
      "         1, 1, 1, 1, 1, 1, 1, 1, 1, 1, 0, 0, 0, 0, 0, 0, 0, 0, 0, 0, 0, 0, 0, 0,\n",
      "         0, 0, 0, 0, 0, 0, 0, 0, 0, 0, 0, 0, 0, 0, 0, 0, 0, 0, 0, 0, 0, 0, 0, 0,\n",
      "         0, 0, 0, 0, 0, 0, 0, 0]])}\n"
     ]
    },
    {
     "name": "stderr",
     "output_type": "stream",
     "text": [
      "/Users/rso/Applications/miniforge3/envs/nlp/lib/python3.8/site-packages/transformers/tokenization_utils_base.py:2251: FutureWarning: The `pad_to_max_length` argument is deprecated and will be removed in a future version, use `padding=True` or `padding='longest'` to pad to the longest sequence in the batch, or use `padding='max_length'` to pad to a max length. In this case, you can give a specific length with `max_length` (e.g. `max_length=45`) or leave max_length to None to pad to the maximal input size of the model (e.g. 512 for Bert).\n",
      "  warnings.warn(\n"
     ]
    }
   ],
   "source": [
    "tokens = tokenizer(text,return_tensors='pt',max_length=80,truncation=True,pad_to_max_length=True)\n",
    "print(tokens)"
   ]
  },
  {
   "cell_type": "code",
   "execution_count": 88,
   "metadata": {},
   "outputs": [
    {
     "name": "stdout",
     "output_type": "stream",
     "text": [
      "Number of layers: 13   (initial embeddings + 12 BERT layers)\n",
      "Number of batches: 1\n",
      "Number of tokens: 80\n",
      "Number of hidden units: 768\n"
     ]
    }
   ],
   "source": [
    "outputs = model(**tokens)\n",
    "hidden_states = outputs[2]\n",
    "print (\"Number of layers:\", len(hidden_states), \"  (initial embeddings + 12 BERT layers)\")\n",
    "layer_i = 0\n",
    "\n",
    "print (\"Number of batches:\", len(hidden_states[layer_i]))\n",
    "batch_i = 0\n",
    "\n",
    "print (\"Number of tokens:\", len(hidden_states[layer_i][batch_i]))\n",
    "token_i = 0\n",
    "\n",
    "print (\"Number of hidden units:\", len(hidden_states[layer_i][batch_i][token_i]))"
   ]
  },
  {
   "cell_type": "code",
   "execution_count": 117,
   "metadata": {},
   "outputs": [
    {
     "name": "stdout",
     "output_type": "stream",
     "text": [
      "tensor([[ 101, 2769, 4433, 3189, 1343, 1477, 6121, 6125,  102],\n",
      "        [ 101, 2492, 4433,  913, 2769, 1646, 5646, 6637,  102],\n",
      "        [ 101, 2769, 4433, 3189, 1343, 1477, 6121, 6125,  102]])\n"
     ]
    }
   ],
   "source": [
    "sentences = ['我琴日去咗行街','彈琴係我嘅興趣','我琴日去咗行街']\n",
    "\n",
    "tokens = tokenizer(sentences,return_tensors='pt')\n",
    "print(tokens.input_ids)\n",
    "outputs = model(**tokens)\n",
    "hidden_states = outputs[2]   # 13 x 3 x len(sentence) x 768\n",
    "    "
   ]
  },
  {
   "cell_type": "code",
   "execution_count": 124,
   "metadata": {},
   "outputs": [
    {
     "name": "stdout",
     "output_type": "stream",
     "text": [
      "2\n",
      "2\n"
     ]
    }
   ],
   "source": [
    "def idx(tokens,x):\n",
    "    X = tokenizer.convert_ids_to_tokens(tokens)\n",
    "    return X.index(x)\n",
    "\n",
    "print(idx(tokens.input_ids[0],'琴'))\n",
    "print(idx(tokens.input_ids[1],'琴'))\n",
    "\n",
    "layer_i = 12\n",
    "sentence_1 = 0\n",
    "sentence_2 = 1\n",
    "sentence_3 = 2\n",
    "embeddings_1 = hidden_states[layer_i][sentence_1][idx(tokens.input_ids[sentence_1],'琴')]\n",
    "embeddings_2 = hidden_states[layer_i][sentence_2][idx(tokens.input_ids[sentence_2],'琴')]\n",
    "embeddings_3 = hidden_states[layer_i][sentence_3][idx(tokens.input_ids[sentence_3],'琴')]"
   ]
  },
  {
   "cell_type": "code",
   "execution_count": 132,
   "metadata": {},
   "outputs": [
    {
     "name": "stdout",
     "output_type": "stream",
     "text": [
      "True\n",
      "False\n"
     ]
    }
   ],
   "source": [
    "print(list(embeddings_1.detach().numpy()) == list(embeddings_3.detach().numpy()))\n",
    "print(list(embeddings_1.detach().numpy()) == list(embeddings_2.detach().numpy()))"
   ]
  },
  {
   "cell_type": "code",
   "execution_count": 134,
   "metadata": {},
   "outputs": [
    {
     "data": {
      "image/png": "[encoded data removed]",
      "text/plain": [
       "<Figure size 720x720 with 1 Axes>"
      ]
     },
     "metadata": {
      "needs_background": "light"
     },
     "output_type": "display_data"
    }
   ],
   "source": [
    "plt.figure(figsize=(10,10))\n",
    "plt.hist(embeddings_1.detach().numpy(), bins=200)\n",
    "plt.hist(embeddings_2.detach().numpy(), bins=200)\n",
    "# plt.hist(embeddings_3.detach().numpy(), bins=200)\n",
    "plt.show()"
   ]
  },
  {
   "cell_type": "code",
   "execution_count": null,
   "metadata": {},
   "outputs": [],
   "source": []
  }
 ],
 "metadata": {
  "interpreter": {
   "hash": "3ae98c631e394dd92bf870df93f8145d8d936f3b9b0948ebeb4ec1e7a1cff192"
  },
  "kernelspec": {
   "display_name": "Python 3.8.12 ('nlp')",
   "language": "python",
   "name": "python3"
  },
  "language_info": {
   "codemirror_mode": {
    "name": "ipython",
    "version": 3
   },
   "file_extension": ".py",
   "mimetype": "text/x-python",
   "name": "python",
   "nbconvert_exporter": "python",
   "pygments_lexer": "ipython3",
   "version": "3.8.12"
  },
  "orig_nbformat": 4
 },
 "nbformat": 4,
 "nbformat_minor": 2
}
