{
  "nbformat": 4,
  "nbformat_minor": 0,
  "metadata": {
    "colab": {
      "name": "Sentiment Analysis (hugging face).ipynb",
      "provenance": [],
      "authorship_tag": "ABX9TyPZ7j7LulrBHHqOO77uYXjN",
      "include_colab_link": true
    },
    "kernelspec": {
      "name": "python3",
      "display_name": "Python 3"
    },
    "language_info": {
      "name": "python"
    }
  },
  "cells": [
    {
      "cell_type": "markdown",
      "metadata": {
        "id": "view-in-github",
        "colab_type": "text"
      },
      "source": [
        "<a href=\"https://colab.research.google.com/github/raymondwcs/learning_bert/blob/master/Sentiment_Analysis_(hugging_face).ipynb\" target=\"_parent\"><img src=\"https://colab.research.google.com/assets/colab-badge.svg\" alt=\"Open In Colab\"/></a>"
      ]
    },
    {
      "cell_type": "code",
      "metadata": {
        "id": "ZKuMM1Y3m7rn"
      },
      "source": [
        "!pip install --quiet transformers\n",
        "from transformers import AutoModelForSequenceClassification,AutoTokenizer\n",
        "import torch"
      ],
      "execution_count": 4,
      "outputs": []
    },
    {
      "cell_type": "code",
      "metadata": {
        "colab": {
          "base_uri": "https://localhost:8080/"
        },
        "id": "7kWaqYUqnEb7",
        "outputId": "4d8674e6-bbd6-41c8-d040-69af9eec7320"
      },
      "source": [
        "CHECKPOINT = 'uer/roberta-base-finetuned-jd-full-chinese'  # https://huggingface.co/uer/roberta-base-finetuned-jd-full-chinese\n",
        "\n",
        "model = AutoModelForSequenceClassification.from_pretrained(CHECKPOINT)\n",
        "tokenizer = AutoTokenizer.from_pretrained(CHECKPOINT)\n",
        "\n",
        "sentences = [\n",
        "  '芒果大合奏~ 次次去都係食呢個，好多層次的芒果，有芒果乾，芒果布丁，芒果肉，芒果雪糕，芒果漿，不同texture, 感覺真係好rich~ 大滿足',\n",
        "  '但係我地黎既目的係食韓燒，點知種類賣相真係嚇死你！啲肉好似冇奄過咁！啲牛肉粒仲瘦過瘦肉，都算啦！點知所有野食燒完後完全冇味！',\n",
        "  'ok\t無驚喜，穩穩陣陣 連鎖式快餐店的食物一定係穩陣，但唔會有太大的驚喜或新花款。是晚外賣上個friend屋企聚一聚，唔想食燒味飯，又見唔到有焗豬扒飯，只見到鳳爪排骨煲仔飯啱口味D，好彩煲仔飯都可以外賣，只不過無得煲仔上，食下飯焦；煲仔飯就跟中湯加杯中國茶。 唔知個湯係咩湯，湯渣都幾多，不喝也吧！煲仔飯的豉油係另上，鍾意落幾多就幾多，可能無咗個煲仔，個飯顯得較為濕咗D，有兩隻鳳爪，都幾多的細粒排骨，今次D排骨好彩係都有肉食，唔會舊舊都只係骨，個飯合格啦！杯中國茶點綴下又可以幫助消化，唔錯！', \n",
        "  '伏已中 一個人嚟食，叫咗個沙爹牛肉出前一丁餐，跟杯凍奶茶。想叫個菠蘿油試吓，個伙記問我菠蘿油跟咩飲。我問單叫菠蘿油，唔跟餐飲幾錢？ 個伙記又問佢同事，答覆竟然係「菠蘿油冇得單嗌，一定要跟餐」。 算，冇理由哂錢叫兩杯嘢，亦冇咩好討論，咁我唯有唔要菠蘿油啦。 沙爹牛肉出前一丁。沙爹牛肉好韌，至於個麵雖然跟包疑似日清麻油，但我好懷疑唔係日清出前一丁。 其次，個麵未煮透，似食緊大陸「泡麵」。 喂大佬，你sell香港地道茶記，最簡單嘅嘢都做唔好？'\n",
        "]\n",
        "\n",
        "max_length = len(max(sentences, key=len))\n",
        "\n",
        "for sentence in sentences:\n",
        "  tokens = tokenizer(text=sentence, add_special_tokens=True, padding='max_length', max_length=max_length, truncation=True, return_tensors='pt')\n",
        "  output = model(**tokens)\n",
        "  # print(output)\n",
        "  print(torch.softmax(output.logits, dim=1).tolist()[0])\n"
      ],
      "execution_count": 12,
      "outputs": [
        {
          "output_type": "stream",
          "text": [
            "[0.0037497638259083033, 0.0032669890206307173, 0.007676293607801199, 0.0958181619644165, 0.8894888162612915]\n",
            "[0.23131336271762848, 0.5215008854866028, 0.22375570237636566, 0.020008336752653122, 0.0034217138309031725]\n",
            "[0.0012474487302824855, 0.009353836998343468, 0.17425842583179474, 0.7290279865264893, 0.08611235022544861]\n",
            "[0.7122764587402344, 0.2189757078886032, 0.05583230033516884, 0.006578327156603336, 0.006337235681712627]\n"
          ],
          "name": "stdout"
        }
      ]
    }
  ]
}