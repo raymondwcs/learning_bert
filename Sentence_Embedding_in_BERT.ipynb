{
  "nbformat": 4,
  "nbformat_minor": 0,
  "metadata": {
    "colab": {
      "name": "Sentence Embedding in BERT.ipynb",
      "provenance": [],
      "authorship_tag": "ABX9TyMNofiRHVlt4GenpOKE7nmR",
      "include_colab_link": true
    },
    "kernelspec": {
      "name": "python3",
      "display_name": "Python 3"
    },
    "language_info": {
      "name": "python"
    },
    "widgets": {
      "application/vnd.jupyter.widget-state+json": {
        "e63a5744da0f4e15b36dfb68f19a1bae": {
          "model_module": "@jupyter-widgets/controls",
          "model_name": "HBoxModel",
          "state": {
            "_view_name": "HBoxView",
            "_dom_classes": [],
            "_model_name": "HBoxModel",
            "_view_module": "@jupyter-widgets/controls",
            "_model_module_version": "1.5.0",
            "_view_count": null,
            "_view_module_version": "1.5.0",
            "box_style": "",
            "layout": "IPY_MODEL_224ea3fb02ed4d69828f2c4e9ec0c872",
            "_model_module": "@jupyter-widgets/controls",
            "children": [
              "IPY_MODEL_62741b9a1f834740954e73d6593fc138",
              "IPY_MODEL_126c54811d5d4d0e9a06b3f994895f84"
            ]
          }
        },
        "224ea3fb02ed4d69828f2c4e9ec0c872": {
          "model_module": "@jupyter-widgets/base",
          "model_name": "LayoutModel",
          "state": {
            "_view_name": "LayoutView",
            "grid_template_rows": null,
            "right": null,
            "justify_content": null,
            "_view_module": "@jupyter-widgets/base",
            "overflow": null,
            "_model_module_version": "1.2.0",
            "_view_count": null,
            "flex_flow": null,
            "width": null,
            "min_width": null,
            "border": null,
            "align_items": null,
            "bottom": null,
            "_model_module": "@jupyter-widgets/base",
            "top": null,
            "grid_column": null,
            "overflow_y": null,
            "overflow_x": null,
            "grid_auto_flow": null,
            "grid_area": null,
            "grid_template_columns": null,
            "flex": null,
            "_model_name": "LayoutModel",
            "justify_items": null,
            "grid_row": null,
            "max_height": null,
            "align_content": null,
            "visibility": null,
            "align_self": null,
            "height": null,
            "min_height": null,
            "padding": null,
            "grid_auto_rows": null,
            "grid_gap": null,
            "max_width": null,
            "order": null,
            "_view_module_version": "1.2.0",
            "grid_template_areas": null,
            "object_position": null,
            "object_fit": null,
            "grid_auto_columns": null,
            "margin": null,
            "display": null,
            "left": null
          }
        },
        "62741b9a1f834740954e73d6593fc138": {
          "model_module": "@jupyter-widgets/controls",
          "model_name": "FloatProgressModel",
          "state": {
            "_view_name": "ProgressView",
            "style": "IPY_MODEL_6955acab494345e6865ecc6b34cfa5cd",
            "_dom_classes": [],
            "description": "Downloading: 100%",
            "_model_name": "FloatProgressModel",
            "bar_style": "success",
            "max": 29,
            "_view_module": "@jupyter-widgets/controls",
            "_model_module_version": "1.5.0",
            "value": 29,
            "_view_count": null,
            "_view_module_version": "1.5.0",
            "orientation": "horizontal",
            "min": 0,
            "description_tooltip": null,
            "_model_module": "@jupyter-widgets/controls",
            "layout": "IPY_MODEL_508b1f18f32e41fbae348ea8c015a06b"
          }
        },
        "126c54811d5d4d0e9a06b3f994895f84": {
          "model_module": "@jupyter-widgets/controls",
          "model_name": "HTMLModel",
          "state": {
            "_view_name": "HTMLView",
            "style": "IPY_MODEL_89afd59015a54a1aadd0c8cf9833ca42",
            "_dom_classes": [],
            "description": "",
            "_model_name": "HTMLModel",
            "placeholder": "​",
            "_view_module": "@jupyter-widgets/controls",
            "_model_module_version": "1.5.0",
            "value": " 29.0/29.0 [00:00&lt;00:00, 704B/s]",
            "_view_count": null,
            "_view_module_version": "1.5.0",
            "description_tooltip": null,
            "_model_module": "@jupyter-widgets/controls",
            "layout": "IPY_MODEL_a8095aae968b4ca5a8ca31bf1c55d299"
          }
        },
        "6955acab494345e6865ecc6b34cfa5cd": {
          "model_module": "@jupyter-widgets/controls",
          "model_name": "ProgressStyleModel",
          "state": {
            "_view_name": "StyleView",
            "_model_name": "ProgressStyleModel",
            "description_width": "initial",
            "_view_module": "@jupyter-widgets/base",
            "_model_module_version": "1.5.0",
            "_view_count": null,
            "_view_module_version": "1.2.0",
            "bar_color": null,
            "_model_module": "@jupyter-widgets/controls"
          }
        },
        "508b1f18f32e41fbae348ea8c015a06b": {
          "model_module": "@jupyter-widgets/base",
          "model_name": "LayoutModel",
          "state": {
            "_view_name": "LayoutView",
            "grid_template_rows": null,
            "right": null,
            "justify_content": null,
            "_view_module": "@jupyter-widgets/base",
            "overflow": null,
            "_model_module_version": "1.2.0",
            "_view_count": null,
            "flex_flow": null,
            "width": null,
            "min_width": null,
            "border": null,
            "align_items": null,
            "bottom": null,
            "_model_module": "@jupyter-widgets/base",
            "top": null,
            "grid_column": null,
            "overflow_y": null,
            "overflow_x": null,
            "grid_auto_flow": null,
            "grid_area": null,
            "grid_template_columns": null,
            "flex": null,
            "_model_name": "LayoutModel",
            "justify_items": null,
            "grid_row": null,
            "max_height": null,
            "align_content": null,
            "visibility": null,
            "align_self": null,
            "height": null,
            "min_height": null,
            "padding": null,
            "grid_auto_rows": null,
            "grid_gap": null,
            "max_width": null,
            "order": null,
            "_view_module_version": "1.2.0",
            "grid_template_areas": null,
            "object_position": null,
            "object_fit": null,
            "grid_auto_columns": null,
            "margin": null,
            "display": null,
            "left": null
          }
        },
        "89afd59015a54a1aadd0c8cf9833ca42": {
          "model_module": "@jupyter-widgets/controls",
          "model_name": "DescriptionStyleModel",
          "state": {
            "_view_name": "StyleView",
            "_model_name": "DescriptionStyleModel",
            "description_width": "",
            "_view_module": "@jupyter-widgets/base",
            "_model_module_version": "1.5.0",
            "_view_count": null,
            "_view_module_version": "1.2.0",
            "_model_module": "@jupyter-widgets/controls"
          }
        },
        "a8095aae968b4ca5a8ca31bf1c55d299": {
          "model_module": "@jupyter-widgets/base",
          "model_name": "LayoutModel",
          "state": {
            "_view_name": "LayoutView",
            "grid_template_rows": null,
            "right": null,
            "justify_content": null,
            "_view_module": "@jupyter-widgets/base",
            "overflow": null,
            "_model_module_version": "1.2.0",
            "_view_count": null,
            "flex_flow": null,
            "width": null,
            "min_width": null,
            "border": null,
            "align_items": null,
            "bottom": null,
            "_model_module": "@jupyter-widgets/base",
            "top": null,
            "grid_column": null,
            "overflow_y": null,
            "overflow_x": null,
            "grid_auto_flow": null,
            "grid_area": null,
            "grid_template_columns": null,
            "flex": null,
            "_model_name": "LayoutModel",
            "justify_items": null,
            "grid_row": null,
            "max_height": null,
            "align_content": null,
            "visibility": null,
            "align_self": null,
            "height": null,
            "min_height": null,
            "padding": null,
            "grid_auto_rows": null,
            "grid_gap": null,
            "max_width": null,
            "order": null,
            "_view_module_version": "1.2.0",
            "grid_template_areas": null,
            "object_position": null,
            "object_fit": null,
            "grid_auto_columns": null,
            "margin": null,
            "display": null,
            "left": null
          }
        },
        "457ed2f09eff48b3b05607d6ac84fbd1": {
          "model_module": "@jupyter-widgets/controls",
          "model_name": "HBoxModel",
          "state": {
            "_view_name": "HBoxView",
            "_dom_classes": [],
            "_model_name": "HBoxModel",
            "_view_module": "@jupyter-widgets/controls",
            "_model_module_version": "1.5.0",
            "_view_count": null,
            "_view_module_version": "1.5.0",
            "box_style": "",
            "layout": "IPY_MODEL_4d60eafa8a6c4b35a324953973ee4d02",
            "_model_module": "@jupyter-widgets/controls",
            "children": [
              "IPY_MODEL_4bffdd6296734cf3aeb6552c6d177f2c",
              "IPY_MODEL_43b1b5e9fec54600b966b40e7ae86bd2"
            ]
          }
        },
        "4d60eafa8a6c4b35a324953973ee4d02": {
          "model_module": "@jupyter-widgets/base",
          "model_name": "LayoutModel",
          "state": {
            "_view_name": "LayoutView",
            "grid_template_rows": null,
            "right": null,
            "justify_content": null,
            "_view_module": "@jupyter-widgets/base",
            "overflow": null,
            "_model_module_version": "1.2.0",
            "_view_count": null,
            "flex_flow": null,
            "width": null,
            "min_width": null,
            "border": null,
            "align_items": null,
            "bottom": null,
            "_model_module": "@jupyter-widgets/base",
            "top": null,
            "grid_column": null,
            "overflow_y": null,
            "overflow_x": null,
            "grid_auto_flow": null,
            "grid_area": null,
            "grid_template_columns": null,
            "flex": null,
            "_model_name": "LayoutModel",
            "justify_items": null,
            "grid_row": null,
            "max_height": null,
            "align_content": null,
            "visibility": null,
            "align_self": null,
            "height": null,
            "min_height": null,
            "padding": null,
            "grid_auto_rows": null,
            "grid_gap": null,
            "max_width": null,
            "order": null,
            "_view_module_version": "1.2.0",
            "grid_template_areas": null,
            "object_position": null,
            "object_fit": null,
            "grid_auto_columns": null,
            "margin": null,
            "display": null,
            "left": null
          }
        },
        "4bffdd6296734cf3aeb6552c6d177f2c": {
          "model_module": "@jupyter-widgets/controls",
          "model_name": "FloatProgressModel",
          "state": {
            "_view_name": "ProgressView",
            "style": "IPY_MODEL_ca97187b0e954953a18651cec7da9c4f",
            "_dom_classes": [],
            "description": "Downloading: 100%",
            "_model_name": "FloatProgressModel",
            "bar_style": "success",
            "max": 109540,
            "_view_module": "@jupyter-widgets/controls",
            "_model_module_version": "1.5.0",
            "value": 109540,
            "_view_count": null,
            "_view_module_version": "1.5.0",
            "orientation": "horizontal",
            "min": 0,
            "description_tooltip": null,
            "_model_module": "@jupyter-widgets/controls",
            "layout": "IPY_MODEL_3ef0041364d240e1be950f47ca0af713"
          }
        },
        "43b1b5e9fec54600b966b40e7ae86bd2": {
          "model_module": "@jupyter-widgets/controls",
          "model_name": "HTMLModel",
          "state": {
            "_view_name": "HTMLView",
            "style": "IPY_MODEL_8d263e382a494a77bb63434ffd7ce826",
            "_dom_classes": [],
            "description": "",
            "_model_name": "HTMLModel",
            "placeholder": "​",
            "_view_module": "@jupyter-widgets/controls",
            "_model_module_version": "1.5.0",
            "value": " 110k/110k [00:00&lt;00:00, 793kB/s]",
            "_view_count": null,
            "_view_module_version": "1.5.0",
            "description_tooltip": null,
            "_model_module": "@jupyter-widgets/controls",
            "layout": "IPY_MODEL_1fb3fe5a2edb402c88dca8f860986813"
          }
        },
        "ca97187b0e954953a18651cec7da9c4f": {
          "model_module": "@jupyter-widgets/controls",
          "model_name": "ProgressStyleModel",
          "state": {
            "_view_name": "StyleView",
            "_model_name": "ProgressStyleModel",
            "description_width": "initial",
            "_view_module": "@jupyter-widgets/base",
            "_model_module_version": "1.5.0",
            "_view_count": null,
            "_view_module_version": "1.2.0",
            "bar_color": null,
            "_model_module": "@jupyter-widgets/controls"
          }
        },
        "3ef0041364d240e1be950f47ca0af713": {
          "model_module": "@jupyter-widgets/base",
          "model_name": "LayoutModel",
          "state": {
            "_view_name": "LayoutView",
            "grid_template_rows": null,
            "right": null,
            "justify_content": null,
            "_view_module": "@jupyter-widgets/base",
            "overflow": null,
            "_model_module_version": "1.2.0",
            "_view_count": null,
            "flex_flow": null,
            "width": null,
            "min_width": null,
            "border": null,
            "align_items": null,
            "bottom": null,
            "_model_module": "@jupyter-widgets/base",
            "top": null,
            "grid_column": null,
            "overflow_y": null,
            "overflow_x": null,
            "grid_auto_flow": null,
            "grid_area": null,
            "grid_template_columns": null,
            "flex": null,
            "_model_name": "LayoutModel",
            "justify_items": null,
            "grid_row": null,
            "max_height": null,
            "align_content": null,
            "visibility": null,
            "align_self": null,
            "height": null,
            "min_height": null,
            "padding": null,
            "grid_auto_rows": null,
            "grid_gap": null,
            "max_width": null,
            "order": null,
            "_view_module_version": "1.2.0",
            "grid_template_areas": null,
            "object_position": null,
            "object_fit": null,
            "grid_auto_columns": null,
            "margin": null,
            "display": null,
            "left": null
          }
        },
        "8d263e382a494a77bb63434ffd7ce826": {
          "model_module": "@jupyter-widgets/controls",
          "model_name": "DescriptionStyleModel",
          "state": {
            "_view_name": "StyleView",
            "_model_name": "DescriptionStyleModel",
            "description_width": "",
            "_view_module": "@jupyter-widgets/base",
            "_model_module_version": "1.5.0",
            "_view_count": null,
            "_view_module_version": "1.2.0",
            "_model_module": "@jupyter-widgets/controls"
          }
        },
        "1fb3fe5a2edb402c88dca8f860986813": {
          "model_module": "@jupyter-widgets/base",
          "model_name": "LayoutModel",
          "state": {
            "_view_name": "LayoutView",
            "grid_template_rows": null,
            "right": null,
            "justify_content": null,
            "_view_module": "@jupyter-widgets/base",
            "overflow": null,
            "_model_module_version": "1.2.0",
            "_view_count": null,
            "flex_flow": null,
            "width": null,
            "min_width": null,
            "border": null,
            "align_items": null,
            "bottom": null,
            "_model_module": "@jupyter-widgets/base",
            "top": null,
            "grid_column": null,
            "overflow_y": null,
            "overflow_x": null,
            "grid_auto_flow": null,
            "grid_area": null,
            "grid_template_columns": null,
            "flex": null,
            "_model_name": "LayoutModel",
            "justify_items": null,
            "grid_row": null,
            "max_height": null,
            "align_content": null,
            "visibility": null,
            "align_self": null,
            "height": null,
            "min_height": null,
            "padding": null,
            "grid_auto_rows": null,
            "grid_gap": null,
            "max_width": null,
            "order": null,
            "_view_module_version": "1.2.0",
            "grid_template_areas": null,
            "object_position": null,
            "object_fit": null,
            "grid_auto_columns": null,
            "margin": null,
            "display": null,
            "left": null
          }
        },
        "dde10eebbb074560a9d35c9fd79e7b31": {
          "model_module": "@jupyter-widgets/controls",
          "model_name": "HBoxModel",
          "state": {
            "_view_name": "HBoxView",
            "_dom_classes": [],
            "_model_name": "HBoxModel",
            "_view_module": "@jupyter-widgets/controls",
            "_model_module_version": "1.5.0",
            "_view_count": null,
            "_view_module_version": "1.5.0",
            "box_style": "",
            "layout": "IPY_MODEL_8ba57cf15f0c4c9697e0303fcaf91bde",
            "_model_module": "@jupyter-widgets/controls",
            "children": [
              "IPY_MODEL_619a8abb995d442eb3aa663e7a58c431",
              "IPY_MODEL_704c6e1991a54952b9e64f058840110b"
            ]
          }
        },
        "8ba57cf15f0c4c9697e0303fcaf91bde": {
          "model_module": "@jupyter-widgets/base",
          "model_name": "LayoutModel",
          "state": {
            "_view_name": "LayoutView",
            "grid_template_rows": null,
            "right": null,
            "justify_content": null,
            "_view_module": "@jupyter-widgets/base",
            "overflow": null,
            "_model_module_version": "1.2.0",
            "_view_count": null,
            "flex_flow": null,
            "width": null,
            "min_width": null,
            "border": null,
            "align_items": null,
            "bottom": null,
            "_model_module": "@jupyter-widgets/base",
            "top": null,
            "grid_column": null,
            "overflow_y": null,
            "overflow_x": null,
            "grid_auto_flow": null,
            "grid_area": null,
            "grid_template_columns": null,
            "flex": null,
            "_model_name": "LayoutModel",
            "justify_items": null,
            "grid_row": null,
            "max_height": null,
            "align_content": null,
            "visibility": null,
            "align_self": null,
            "height": null,
            "min_height": null,
            "padding": null,
            "grid_auto_rows": null,
            "grid_gap": null,
            "max_width": null,
            "order": null,
            "_view_module_version": "1.2.0",
            "grid_template_areas": null,
            "object_position": null,
            "object_fit": null,
            "grid_auto_columns": null,
            "margin": null,
            "display": null,
            "left": null
          }
        },
        "619a8abb995d442eb3aa663e7a58c431": {
          "model_module": "@jupyter-widgets/controls",
          "model_name": "FloatProgressModel",
          "state": {
            "_view_name": "ProgressView",
            "style": "IPY_MODEL_183482682dac453ea11f11609ec93bf6",
            "_dom_classes": [],
            "description": "Downloading: 100%",
            "_model_name": "FloatProgressModel",
            "bar_style": "success",
            "max": 268943,
            "_view_module": "@jupyter-widgets/controls",
            "_model_module_version": "1.5.0",
            "value": 268943,
            "_view_count": null,
            "_view_module_version": "1.5.0",
            "orientation": "horizontal",
            "min": 0,
            "description_tooltip": null,
            "_model_module": "@jupyter-widgets/controls",
            "layout": "IPY_MODEL_4f6d4b0e17394b4ab357181a48913dbf"
          }
        },
        "704c6e1991a54952b9e64f058840110b": {
          "model_module": "@jupyter-widgets/controls",
          "model_name": "HTMLModel",
          "state": {
            "_view_name": "HTMLView",
            "style": "IPY_MODEL_e180bcbcab424f13832b6c6b94e8d426",
            "_dom_classes": [],
            "description": "",
            "_model_name": "HTMLModel",
            "placeholder": "​",
            "_view_module": "@jupyter-widgets/controls",
            "_model_module_version": "1.5.0",
            "value": " 269k/269k [00:00&lt;00:00, 3.92MB/s]",
            "_view_count": null,
            "_view_module_version": "1.5.0",
            "description_tooltip": null,
            "_model_module": "@jupyter-widgets/controls",
            "layout": "IPY_MODEL_20dc3ce50c814ff19c4bca767dea6166"
          }
        },
        "183482682dac453ea11f11609ec93bf6": {
          "model_module": "@jupyter-widgets/controls",
          "model_name": "ProgressStyleModel",
          "state": {
            "_view_name": "StyleView",
            "_model_name": "ProgressStyleModel",
            "description_width": "initial",
            "_view_module": "@jupyter-widgets/base",
            "_model_module_version": "1.5.0",
            "_view_count": null,
            "_view_module_version": "1.2.0",
            "bar_color": null,
            "_model_module": "@jupyter-widgets/controls"
          }
        },
        "4f6d4b0e17394b4ab357181a48913dbf": {
          "model_module": "@jupyter-widgets/base",
          "model_name": "LayoutModel",
          "state": {
            "_view_name": "LayoutView",
            "grid_template_rows": null,
            "right": null,
            "justify_content": null,
            "_view_module": "@jupyter-widgets/base",
            "overflow": null,
            "_model_module_version": "1.2.0",
            "_view_count": null,
            "flex_flow": null,
            "width": null,
            "min_width": null,
            "border": null,
            "align_items": null,
            "bottom": null,
            "_model_module": "@jupyter-widgets/base",
            "top": null,
            "grid_column": null,
            "overflow_y": null,
            "overflow_x": null,
            "grid_auto_flow": null,
            "grid_area": null,
            "grid_template_columns": null,
            "flex": null,
            "_model_name": "LayoutModel",
            "justify_items": null,
            "grid_row": null,
            "max_height": null,
            "align_content": null,
            "visibility": null,
            "align_self": null,
            "height": null,
            "min_height": null,
            "padding": null,
            "grid_auto_rows": null,
            "grid_gap": null,
            "max_width": null,
            "order": null,
            "_view_module_version": "1.2.0",
            "grid_template_areas": null,
            "object_position": null,
            "object_fit": null,
            "grid_auto_columns": null,
            "margin": null,
            "display": null,
            "left": null
          }
        },
        "e180bcbcab424f13832b6c6b94e8d426": {
          "model_module": "@jupyter-widgets/controls",
          "model_name": "DescriptionStyleModel",
          "state": {
            "_view_name": "StyleView",
            "_model_name": "DescriptionStyleModel",
            "description_width": "",
            "_view_module": "@jupyter-widgets/base",
            "_model_module_version": "1.5.0",
            "_view_count": null,
            "_view_module_version": "1.2.0",
            "_model_module": "@jupyter-widgets/controls"
          }
        },
        "20dc3ce50c814ff19c4bca767dea6166": {
          "model_module": "@jupyter-widgets/base",
          "model_name": "LayoutModel",
          "state": {
            "_view_name": "LayoutView",
            "grid_template_rows": null,
            "right": null,
            "justify_content": null,
            "_view_module": "@jupyter-widgets/base",
            "overflow": null,
            "_model_module_version": "1.2.0",
            "_view_count": null,
            "flex_flow": null,
            "width": null,
            "min_width": null,
            "border": null,
            "align_items": null,
            "bottom": null,
            "_model_module": "@jupyter-widgets/base",
            "top": null,
            "grid_column": null,
            "overflow_y": null,
            "overflow_x": null,
            "grid_auto_flow": null,
            "grid_area": null,
            "grid_template_columns": null,
            "flex": null,
            "_model_name": "LayoutModel",
            "justify_items": null,
            "grid_row": null,
            "max_height": null,
            "align_content": null,
            "visibility": null,
            "align_self": null,
            "height": null,
            "min_height": null,
            "padding": null,
            "grid_auto_rows": null,
            "grid_gap": null,
            "max_width": null,
            "order": null,
            "_view_module_version": "1.2.0",
            "grid_template_areas": null,
            "object_position": null,
            "object_fit": null,
            "grid_auto_columns": null,
            "margin": null,
            "display": null,
            "left": null
          }
        }
      }
    }
  },
  "cells": [
    {
      "cell_type": "markdown",
      "metadata": {
        "id": "view-in-github",
        "colab_type": "text"
      },
      "source": [
        "<a href=\"https://colab.research.google.com/github/raymondwcs/learning_bert/blob/master/Sentence_Embedding_in_BERT.ipynb\" target=\"_parent\"><img src=\"https://colab.research.google.com/assets/colab-badge.svg\" alt=\"Open In Colab\"/></a>"
      ]
    },
    {
      "cell_type": "code",
      "metadata": {
        "id": "90ns_0Fkf8WH"
      },
      "source": [
        "!pip install --quiet transformers\n",
        "from transformers import AutoModelForSequenceClassification,AutoTokenizer,BertModel,pipeline\n",
        "import torch\n",
        "from torch.nn.functional import cosine_similarity, pairwise_distance\n"
      ],
      "execution_count": 3,
      "outputs": []
    },
    {
      "cell_type": "code",
      "metadata": {
        "colab": {
          "base_uri": "https://localhost:8080/",
          "height": 269,
          "referenced_widgets": [
            "e63a5744da0f4e15b36dfb68f19a1bae",
            "224ea3fb02ed4d69828f2c4e9ec0c872",
            "62741b9a1f834740954e73d6593fc138",
            "126c54811d5d4d0e9a06b3f994895f84",
            "6955acab494345e6865ecc6b34cfa5cd",
            "508b1f18f32e41fbae348ea8c015a06b",
            "89afd59015a54a1aadd0c8cf9833ca42",
            "a8095aae968b4ca5a8ca31bf1c55d299",
            "457ed2f09eff48b3b05607d6ac84fbd1",
            "4d60eafa8a6c4b35a324953973ee4d02",
            "4bffdd6296734cf3aeb6552c6d177f2c",
            "43b1b5e9fec54600b966b40e7ae86bd2",
            "ca97187b0e954953a18651cec7da9c4f",
            "3ef0041364d240e1be950f47ca0af713",
            "8d263e382a494a77bb63434ffd7ce826",
            "1fb3fe5a2edb402c88dca8f860986813",
            "dde10eebbb074560a9d35c9fd79e7b31",
            "8ba57cf15f0c4c9697e0303fcaf91bde",
            "619a8abb995d442eb3aa663e7a58c431",
            "704c6e1991a54952b9e64f058840110b",
            "183482682dac453ea11f11609ec93bf6",
            "4f6d4b0e17394b4ab357181a48913dbf",
            "e180bcbcab424f13832b6c6b94e8d426",
            "20dc3ce50c814ff19c4bca767dea6166"
          ]
        },
        "id": "xWapDyz7gFW5",
        "outputId": "6ecf91c7-551f-4ae0-9793-3055ad4c9425"
      },
      "source": [
        "CHECKPOINT = 'uer/roberta-base-finetuned-jd-full-chinese'  # https://huggingface.co/uer/roberta-base-finetuned-jd-full-chinese\n",
        "CHECKPOINT = 'bert-base-chinese'\n",
        "sentences = [\n",
        "  '這個服務生很不親切',\n",
        "  '这个服务生很不亲切', \n",
        "  '今天是晴天今天是晴',\n",
        "  '今天是晴天',\n",
        "  '今天陽光充沛!',\n",
        "  '今天下大雨',     \n",
        "]\n",
        "\n",
        "tokenizer = AutoTokenizer.from_pretrained(CHECKPOINT)\n",
        "model = BertModel.from_pretrained(CHECKPOINT)\n",
        "\n",
        "tokens = tokenizer(text=sentences, add_special_tokens=True, padding=True, truncation=True, return_tensors='pt')\n",
        "\n",
        "input_ids = tokens.input_ids[0].unsqueeze(0)\n",
        "attention_mask = tokens.attention_mask[0].unsqueeze(0)\n",
        "output = model(input_ids=input_ids, attention_mask=attention_mask)\n",
        "sentence_embedding_01 = output.pooler_output\n",
        "\n",
        "input_ids = tokens.input_ids[1].unsqueeze(0)\n",
        "attention_mask = tokens.attention_mask[1].unsqueeze(0)\n",
        "output = model(input_ids=input_ids, attention_mask=attention_mask)\n",
        "sentence_embedding_02 = output.pooler_output\n",
        "\n",
        "print(cosine_similarity(sentence_embedding_01, sentence_embedding_02))\n",
        "print(pairwise_distance(sentence_embedding_01, sentence_embedding_02))"
      ],
      "execution_count": 5,
      "outputs": [
        {
          "output_type": "display_data",
          "data": {
            "application/vnd.jupyter.widget-view+json": {
              "model_id": "e63a5744da0f4e15b36dfb68f19a1bae",
              "version_minor": 0,
              "version_major": 2
            },
            "text/plain": [
              "HBox(children=(FloatProgress(value=0.0, description='Downloading', max=29.0, style=ProgressStyle(description_w…"
            ]
          },
          "metadata": {
            "tags": []
          }
        },
        {
          "output_type": "stream",
          "text": [
            "\n"
          ],
          "name": "stdout"
        },
        {
          "output_type": "display_data",
          "data": {
            "application/vnd.jupyter.widget-view+json": {
              "model_id": "457ed2f09eff48b3b05607d6ac84fbd1",
              "version_minor": 0,
              "version_major": 2
            },
            "text/plain": [
              "HBox(children=(FloatProgress(value=0.0, description='Downloading', max=109540.0, style=ProgressStyle(descripti…"
            ]
          },
          "metadata": {
            "tags": []
          }
        },
        {
          "output_type": "stream",
          "text": [
            "\n"
          ],
          "name": "stdout"
        },
        {
          "output_type": "display_data",
          "data": {
            "application/vnd.jupyter.widget-view+json": {
              "model_id": "dde10eebbb074560a9d35c9fd79e7b31",
              "version_minor": 0,
              "version_major": 2
            },
            "text/plain": [
              "HBox(children=(FloatProgress(value=0.0, description='Downloading', max=268943.0, style=ProgressStyle(descripti…"
            ]
          },
          "metadata": {
            "tags": []
          }
        },
        {
          "output_type": "stream",
          "text": [
            "\n"
          ],
          "name": "stdout"
        },
        {
          "output_type": "stream",
          "text": [
            "Some weights of the model checkpoint at bert-base-chinese were not used when initializing BertModel: ['cls.predictions.transform.dense.weight', 'cls.predictions.transform.LayerNorm.bias', 'cls.predictions.transform.LayerNorm.weight', 'cls.predictions.bias', 'cls.predictions.decoder.weight', 'cls.seq_relationship.weight', 'cls.seq_relationship.bias', 'cls.predictions.transform.dense.bias']\n",
            "- This IS expected if you are initializing BertModel from the checkpoint of a model trained on another task or with another architecture (e.g. initializing a BertForSequenceClassification model from a BertForPreTraining model).\n",
            "- This IS NOT expected if you are initializing BertModel from the checkpoint of a model that you expect to be exactly identical (initializing a BertForSequenceClassification model from a BertForSequenceClassification model).\n"
          ],
          "name": "stderr"
        },
        {
          "output_type": "stream",
          "text": [
            "tensor([0.9841], grad_fn=<DivBackward0>)\n",
            "tensor([4.3819], grad_fn=<NormBackward1>)\n"
          ],
          "name": "stdout"
        }
      ]
    },
    {
      "cell_type": "code",
      "metadata": {
        "colab": {
          "base_uri": "https://localhost:8080/"
        },
        "id": "4yMUs6JJgfrh",
        "outputId": "6d10b60c-a941-405f-808d-295a841e6eab"
      },
      "source": [
        "output = model(input_ids=tokens.input_ids, output_hidden_states=True)\n",
        "\n",
        "# https://mccormickml.com/2019/05/14/BERT-word-embeddings-tutorial/\n",
        "# output[0]   # last_hidden_state\n",
        "# output[1]   # pooler_output\n",
        "# output[2]   # hidden layers (13 = input embeddings + 12 BERT layers)\n",
        "\n",
        "hidden_states = output[2]\n",
        "\n",
        "# print(hidden_states)\n",
        "print(len(hidden_states))             # 13 = input embeddings + 12 BERT layers\n",
        "print(hidden_states[-1].shape)        # last hidden layer [1, <input length>, 768]\n",
        "print(len(hidden_states[-1]))         # 1\n",
        "print(len(hidden_states[-1][0]))      # <input length>\n",
        "print(len(hidden_states[-1][0][0]))   # 768\n",
        "print(hidden_states[-1])\n",
        "\n",
        "# `hidden_states` has shape [13 x 1 x <input length> x 768]\n",
        "# `token_vecs` is a tensor with shape [<input length> x 768]\n",
        "token_vecs = hidden_states[1:13][0]\n",
        "print(len(token_vecs))\n",
        "\n",
        "# Calculate the average of all token vectors.\n",
        "sentence_embedding = torch.mean(token_vecs, dim=0)\n",
        "\n",
        "print (\"Our final sentence embedding vector of shape:\", sentence_embedding.size())"
      ],
      "execution_count": 6,
      "outputs": [
        {
          "output_type": "stream",
          "text": [
            "13\n",
            "torch.Size([6, 11, 768])\n",
            "6\n",
            "11\n",
            "768\n",
            "tensor([[[ 0.6990,  0.2976,  0.0780,  ..., -0.2679,  0.4348, -0.4079],\n",
            "         [ 0.4393,  0.4274,  0.3795,  ..., -0.2055, -0.2701, -0.1704],\n",
            "         [ 1.2645,  0.2934, -0.3274,  ...,  0.4628,  1.5048, -0.3984],\n",
            "         ...,\n",
            "         [ 0.1623,  0.5196, -0.6810,  ...,  0.9575, -0.0201,  0.4393],\n",
            "         [ 0.8598,  0.1185, -0.8425,  ..., -0.4070, -0.1333, -0.1838],\n",
            "         [ 0.2993,  0.5014, -0.5098,  ..., -0.5224,  0.0896, -0.0483]],\n",
            "\n",
            "        [[ 0.9797,  0.2807, -0.0285,  ..., -0.2808,  0.6529, -0.2834],\n",
            "         [ 0.3758,  0.3738,  0.4548,  ..., -0.5361,  0.0271, -0.2273],\n",
            "         [ 1.1849,  0.2157, -0.3603,  ...,  0.2832,  1.6439, -0.5682],\n",
            "         ...,\n",
            "         [ 0.0380,  0.4457, -0.4412,  ...,  0.9437,  0.2141,  0.1889],\n",
            "         [ 0.8946,  0.0085, -0.8180,  ..., -0.3052,  0.0762, -0.2281],\n",
            "         [ 0.3241,  0.7086, -0.3072,  ..., -0.2152,  0.3009, -0.0885]],\n",
            "\n",
            "        [[-0.2616,  0.3619,  0.5475,  ..., -0.0381, -0.4755,  0.3528],\n",
            "         [-0.4930,  0.6180,  0.9210,  ..., -0.9718, -0.3817, -0.1963],\n",
            "         [ 0.3002, -0.6133, -0.5301,  ..., -0.4356,  0.3884,  0.2968],\n",
            "         ...,\n",
            "         [ 0.1489,  0.1795,  0.7180,  ..., -0.1393,  0.3842,  0.3265],\n",
            "         [ 0.0158,  0.2033, -0.5379,  ...,  0.2739,  0.0374,  0.2369],\n",
            "         [ 0.0720, -0.1075,  0.5208,  ..., -0.0018,  0.0580,  0.2637]],\n",
            "\n",
            "        [[-0.3239,  0.4066,  0.8692,  ..., -0.1153,  0.1619, -0.3210],\n",
            "         [-0.4125,  0.3217,  0.8091,  ..., -0.6293, -0.3216, -0.0631],\n",
            "         [ 0.5137, -0.3480,  0.1405,  ..., -0.2976,  0.1449,  0.1878],\n",
            "         ...,\n",
            "         [-0.0606, -0.3333,  0.2263,  ...,  0.7069,  0.1081, -0.1071],\n",
            "         [-0.0906, -0.0366,  0.4139,  ...,  0.3320,  0.0190, -0.1648],\n",
            "         [-0.1242, -0.1485,  0.2834,  ...,  0.5713, -0.0128, -0.1536]],\n",
            "\n",
            "        [[ 0.4123,  0.9202,  1.0078,  ...,  0.1836, -0.1789, -0.5921],\n",
            "         [ 0.0031,  0.5807,  0.9290,  ..., -1.0565, -0.5122, -0.2215],\n",
            "         [ 1.0932,  0.1384,  0.3166,  ..., -0.0384,  0.1394,  0.0188],\n",
            "         ...,\n",
            "         [ 0.4896,  1.3898,  0.7487,  ..., -0.2507, -0.2337, -0.5515],\n",
            "         [ 0.4932, -0.0558,  0.4618,  ...,  0.1326, -0.6389,  0.0662],\n",
            "         [ 0.1747,  0.0876,  0.1182,  ...,  0.2822, -0.3976, -0.0883]],\n",
            "\n",
            "        [[-0.6302,  0.3261, -0.0465,  ...,  0.2729,  0.5397, -0.3083],\n",
            "         [-0.5411,  0.3617,  0.2912,  ..., -0.5885, -0.1342,  0.0066],\n",
            "         [-0.2301, -0.0164, -0.1912,  ...,  0.1039,  0.2997,  0.1176],\n",
            "         ...,\n",
            "         [-0.4936, -0.2600, -0.1379,  ...,  0.8547,  0.3489, -0.0828],\n",
            "         [-0.6038,  0.1452, -0.1148,  ...,  0.6114,  0.1669, -0.1565],\n",
            "         [-0.4827, -0.1088, -0.1612,  ...,  0.7668,  0.2143, -0.1449]]],\n",
            "       grad_fn=<NativeLayerNormBackward>)\n",
            "6\n",
            "Our final sentence embedding vector of shape: torch.Size([11, 768])\n"
          ],
          "name": "stdout"
        }
      ]
    },
    {
      "cell_type": "code",
      "metadata": {
        "colab": {
          "base_uri": "https://localhost:8080/"
        },
        "id": "kzxYGcVmghUc",
        "outputId": "0c1b911c-ab13-4498-820b-2b95ae1f3c43"
      },
      "source": [
        "tokens = tokenizer(text=sentences, add_special_tokens=True, padding=True, truncation=True, return_tensors='pt')\n",
        "\n",
        "\n",
        "input_ids = tokens.input_ids[0].unsqueeze(0)\n",
        "attention_mask = tokens.attention_mask[2].unsqueeze(0)\n",
        "output = model(input_ids=input_ids, attention_mask=attention_mask, output_hidden_states=True)\n",
        "hidden_states = output[2]\n",
        "token_vecs = hidden_states[1:][0]\n",
        "sentence_embedding01= torch.mean(token_vecs,dim=0)\n",
        "\n",
        "input_ids = tokens.input_ids[1].unsqueeze(0)\n",
        "attention_mask = tokens.attention_mask[1].unsqueeze(0)\n",
        "output = model(input_ids=input_ids, attention_mask=attention_mask, output_hidden_states=True)\n",
        "hidden_states = output[2]\n",
        "token_vecs = hidden_states[1:][0]\n",
        "sentence_embedding02= torch.mean(token_vecs,dim=0)\n",
        "\n",
        "print(sentence_embedding01.size())\n",
        "print(sentence_embedding02.size())\n",
        "\n",
        "sim = cosine_similarity(sentence_embedding01, sentence_embedding02)\n",
        "torch.mean(sim, dim=0)"
      ],
      "execution_count": 7,
      "outputs": [
        {
          "output_type": "stream",
          "text": [
            "torch.Size([11, 768])\n",
            "torch.Size([11, 768])\n"
          ],
          "name": "stdout"
        },
        {
          "output_type": "execute_result",
          "data": {
            "text/plain": [
              "tensor(0.9893, grad_fn=<MeanBackward1>)"
            ]
          },
          "metadata": {
            "tags": []
          },
          "execution_count": 7
        }
      ]
    }
  ]
}