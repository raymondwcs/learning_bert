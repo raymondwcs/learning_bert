{
  "nbformat": 4,
  "nbformat_minor": 0,
  "metadata": {
    "colab": {
      "name": "Fine-tuning a prertrained model (huggingface Trainer).ipynb",
      "provenance": [],
      "authorship_tag": "ABX9TyN+OLw4qkCX/625NM171vAj",
      "include_colab_link": true
    },
    "kernelspec": {
      "display_name": "Python 3",
      "name": "python3"
    },
    "language_info": {
      "name": "python"
    }
  },
  "cells": [
    {
      "cell_type": "markdown",
      "metadata": {
        "id": "view-in-github",
        "colab_type": "text"
      },
      "source": [
        "<a href=\"https://colab.research.google.com/github/raymondwcs/learning_bert/blob/master/Fine_tuning_a_prertrained_model_(huggingface_Trainer).ipynb\" target=\"_parent\"><img src=\"https://colab.research.google.com/assets/colab-badge.svg\" alt=\"Open In Colab\"/></a>"
      ]
    },
    {
      "cell_type": "markdown",
      "metadata": {
        "id": "RflR8aIPCV7p"
      },
      "source": [
        "Reference:\n",
        "\n",
        "https://huggingface.co/transformers/training.html\n"
      ]
    },
    {
      "cell_type": "code",
      "metadata": {
        "colab": {
          "base_uri": "https://localhost:8080/"
        },
        "id": "3LEw9yVvCU-z",
        "outputId": "c0355130-d2b5-42ad-8209-69da9573e753"
      },
      "source": [
        "!git clone https://github.com/Christainx/Openrice_Cantonese\n",
        "!7z e Openrice_Cantonese/Openrice_Cantonese.7z -aoa"
      ],
      "execution_count": null,
      "outputs": [
        {
          "output_type": "stream",
          "text": [
            "fatal: destination path 'Openrice_Cantonese' already exists and is not an empty directory.\n",
            "\n",
            "7-Zip [64] 16.02 : Copyright (c) 1999-2016 Igor Pavlov : 2016-05-21\n",
            "p7zip Version 16.02 (locale=en_US.UTF-8,Utf16=on,HugeFiles=on,64 bits,2 CPUs Intel(R) Xeon(R) CPU @ 2.20GHz (406F0),ASM,AES-NI)\n",
            "\n",
            "Scanning the drive for archives:\n",
            "  0M Scan\b\b\b\b\b\b\b\b\b         \b\b\b\b\b\b\b\b\b1 file, 8138559 bytes (7948 KiB)\n",
            "\n",
            "Extracting archive: Openrice_Cantonese/Openrice_Cantonese.7z\n",
            "--\n",
            "Path = Openrice_Cantonese/Openrice_Cantonese.7z\n",
            "Type = 7z\n",
            "Physical Size = 8138559\n",
            "Headers Size = 154\n",
            "Method = LZMA2:25\n",
            "Solid = -\n",
            "Blocks = 1\n",
            "\n",
            "  0%\b\b\b\b    \b\b\b\b 34% - Openrice_Cantonese.txt\b\b\b\b\b\b\b\b\b\b\b\b\b\b\b\b\b\b\b\b\b\b\b\b\b\b\b\b\b                             \b\b\b\b\b\b\b\b\b\b\b\b\b\b\b\b\b\b\b\b\b\b\b\b\b\b\b\b\b 74% - Openrice_Cantonese.txt\b\b\b\b\b\b\b\b\b\b\b\b\b\b\b\b\b\b\b\b\b\b\b\b\b\b\b\b\b                             \b\b\b\b\b\b\b\b\b\b\b\b\b\b\b\b\b\b\b\b\b\b\b\b\b\b\b\b\bEverything is Ok\n",
            "\n",
            "Size:       27969449\n",
            "Compressed: 8138559\n"
          ],
          "name": "stdout"
        }
      ]
    },
    {
      "cell_type": "code",
      "metadata": {
        "id": "A1ydCcQ2A20d"
      },
      "source": [
        "!pip install --quiet transformers\n",
        "!pip install --quiet datasets\n",
        "from transformers import AutoModelForSequenceClassification,AutoTokenizer,TrainingArguments,Trainer,pipeline\n",
        "\n",
        "import numpy as np\n",
        "import pandas as pd\n",
        "import torch, random\n",
        "from datasets import load_metric\n",
        "from sklearn import preprocessing\n",
        "\n",
        "\n",
        "MAX_LEN = 256\n",
        "CHECKPOINT = 'uer/roberta-base-finetuned-jd-full-chinese'  # https://huggingface.co/uer/roberta-base-finetuned-jd-full-chinese\n",
        "\n",
        "# Set the seed value all over the place to make this reproducible.\n",
        "seed_val = 0\n",
        "\n",
        "random.seed(seed_val)\n",
        "np.random.seed(seed_val)\n",
        "torch.manual_seed(seed_val)\n",
        "torch.cuda.manual_seed_all(seed_val)\n",
        "\n",
        "\n",
        "tokenizer = AutoTokenizer.from_pretrained(CHECKPOINT)\n",
        "model = AutoModelForSequenceClassification.from_pretrained(CHECKPOINT, num_labels=5)"
      ],
      "execution_count": null,
      "outputs": []
    },
    {
      "cell_type": "code",
      "metadata": {
        "id": "Qs4TUWrEL5xp"
      },
      "source": [
        "df_train = pd.read_csv('Openrice_Cantonese.txt', delimiter=\"\\t\\t\", header=None, nrows=128, engine='python')\n",
        "df_eval = pd.read_csv('Openrice_Cantonese.txt', delimiter=\"\\t\\t\", header=None, skiprows=200, nrows=64, engine='python')\n",
        "df_test = pd.read_csv('Openrice_Cantonese.txt', delimiter=\"\\t\\t\", header=None, skiprows=300, nrows=16, engine='python')\n",
        "\n",
        "# remap labels\n",
        "train_labels = df_train.iloc[:,0].transform(lambda x: x -1)\n",
        "eval_labels = df_eval.iloc[:,0].transform(lambda x: x -1)\n",
        "test_labels = df_test.iloc[:,0].transform(lambda x: x -1)\n",
        "\n",
        "train_encodings = tokenizer(df_train.iloc[:,1].values.tolist(), truncation=True, padding=True, max_length=MAX_LEN)\n",
        "eval_encodings = tokenizer(df_eval.iloc[:,1].values.tolist(), truncation=True, padding=True, max_length=MAX_LEN)\n",
        "test_encodings = tokenizer(df_test.iloc[:,1].values.tolist(), truncation=True, padding=True, max_length=MAX_LEN)\n",
        "\n",
        "class OpenRiceDataset(torch.utils.data.Dataset):\n",
        "    def __init__(self, encodings, labels):\n",
        "        self.encodings = encodings\n",
        "        self.labels = labels\n",
        "\n",
        "    def __getitem__(self, idx):\n",
        "        item = {key: torch.tensor(val[idx]) for key, val in self.encodings.items()}\n",
        "        item['labels'] = torch.tensor(self.labels[idx])\n",
        "        return item\n",
        "\n",
        "    def __len__(self):\n",
        "        return len(self.labels)\n",
        "\n",
        "train_dataset = OpenRiceDataset(train_encodings, train_labels)\n",
        "eval_dataset = OpenRiceDataset(eval_encodings, eval_labels)\n",
        "test_dataset = OpenRiceDataset(test_encodings, test_labels)\n",
        "\n",
        "# debug...\n",
        "# data = next(iter(train_dataset))\n",
        "# data"
      ],
      "execution_count": null,
      "outputs": []
    },
    {
      "cell_type": "code",
      "metadata": {
        "colab": {
          "base_uri": "https://localhost:8080/"
        },
        "id": "I0VrmqPqGmWI",
        "outputId": "3114bf2f-c487-4aa4-b2b7-cbef7d782a9f"
      },
      "source": [
        "# Lets find out the classifier's performance before fine-tuning\n",
        "print(df_test)\n",
        "\n",
        "text_classification = pipeline('sentiment-analysis', model=model, tokenizer=tokenizer)\n",
        "results = text_classification(df_test.iloc[:,1].values.tolist())\n",
        "\n",
        "for i in range(len(df_test)):\n",
        "    print(results[i], df_test[0][i]-1, df_test[1][i])\n"
      ],
      "execution_count": null,
      "outputs": [
        {
          "output_type": "stream",
          "text": [
            "    0                                                  1\n",
            "0   5  <sssss>   一條舊街，一條石屎樓梯，一望親切嘅裝修，原來係金利來老闆，佢張金利來定咗...\n",
            "1   3  工作忙碌, 有時候連吃飯的時間也減少了, 唯有近近地找個便利的地方吃午餐, 其實這裡勝在地方...\n",
            "2   4  串燒宵夜🍢😋聽講美味佳好出名，終於俾我試到啦。十一點左右去到唔洗等位，野食等左大約半個鐘就黎...\n",
            "3   3  怕排隊，特意提前出門的時間半走半跑的來到有「紅磡之寶」之稱（誰改的名字？）的小店，誰知道甫坐...\n",
            "4   3  呢到食面都係普通咁叫幾餸。特別之處係叫湯可以有湯渣。小弟最愛食湯渣，D肉煲到好軟綿綿，但又未...\n",
            "5   2  我好少寫食評, 今日都忍唔住要寫一寫見到網上介紹所以試下~ 6:30到達不用等位先來招牌龍蝦...\n",
            "6   1  食物質量差，超低性價比牛肉很薄，沒有牛肉味，賣295元，”盜鄉”的安格斯牛肉比他好食好多水餃...\n",
            "7   4  好好彩當晚唔洗等位，一入就已被告知只有1.5 小時。去為食仔就當然要食卜卜蜆煲啦！一入去立刻...\n",
            "8   4  見到好多朋友是上網食卜卜蜆呃like，所以就去試下啦。嗰度環境就比較窄，但係服務人員態度良好...\n",
            "9   4  係太古睇完戲都10點幾，好多餐廳都關門。所以專登搭車出去銅鑼灣食野，咁放諗住食麵算啦，突然諗...\n",
            "10  4  中辣的傷心酸辣粉真的超級辣 快要辣哭了水煮魚好好食，魚肉超級嫩 辣度也剛剛好夥伴點了雞絲涼麵...\n",
            "11  2  兒時爸爸最喜歡飲茶嘅地方～鳯城，好耐冇食，今日同朋友去懷舊一下。一般酒家嘅裝修及格局，點了菠...\n",
            "12  4  媽咪生日揀咗好耐唔知去邊度食飯, 最後決定揀咗鳳城！頭盤叫咗個例牌燒肉+蝦多士,味道新鮮又夠...\n",
            "13  3  只來過食晚餐, 飲茶倒是第一次.星期日中午都竟不太多人, 上樓上馬上有位.叫了幾味標準點心,...\n",
            "14  3  今日下午去鳳城不過我地選擇唔飲茶...叫餸吃飯~~叫左:大良野雞卷:麻麻地，炸到好乾.......\n",
            "15  3  係英皇道行，完全無心水食咩，行行下見到薩利亞同大x樂, 諗住是但食一間算，所以就揀左薩利亞蒜...\n",
            "{'label': 'star 4', 'score': 0.5035219788551331} 4 <sssss>   一條舊街，一條石屎樓梯，一望親切嘅裝修，原來係金利來老闆，佢張金利來定咗比人，諗注退休！年半後覚得好悶，所以搵咗宜個地方再聚！酥炸德國咸豬手好乾身，話梅骨其實係糖醋猅骨（腩排）之不過唔用檸檬用話梅，味道唔錯😋！四川辣之雞😋😋😋😋(宜間叫小辣已經有汗珠係唇上啦！食完有糖水送！ 酥炸咸豬手😋    <sssss>話梅骨😋<sssss>      辣子雞(小辣)😋😋😋😋😋<sssss> 糖水<sssss>\n",
            "{'label': 'star 4', 'score': 0.5747122764587402} 2 工作忙碌, 有時候連吃飯的時間也減少了, 唯有近近地找個便利的地方吃午餐, 其實這裡勝在地方大, 要找位是比較容易.香茅豬扒飯 $39這天就選來了香茅豬扒飯, 豬扒是炸得幾香脆, 但不算太油, 以茶記來講, 很難得了. 而香茅就很好送飯. 兩三下已經吃光了.<sssss>凍檸茶 +$2要了凍檸茶, 加$2, 但就幾有茶味.這裡午市相當旺場, 水準是不錯的.\n",
            "{'label': 'star 4', 'score': 0.6457404494285583} 3 串燒宵夜🍢😋聽講美味佳好出名，終於俾我試到啦。十一點左右去到唔洗等位，野食等左大約半個鐘就黎齊。傳聞中必食既蛋炒腸粉好好味，老實講係冇乜特別，只係腸粉表面脆脆的😋鷄全翼燒得好香，肉質啱啱好唔會硬，有少少蜜糖味同好多孜然粉味😋整體黎講中上，不過同九龍城既蘭英比較，都係蘭英好食d(佢個汁真係冇得頂😍)講到咁出名，其實都係普通串燒，值得一試但唔會去多幾次，試下新舖頭仲好😂<sssss><sssss><sssss><sssss>\n",
            "{'label': 'star 5', 'score': 0.6500054001808167} 2 怕排隊，特意提前出門的時間半走半跑的來到有「紅磡之寶」之稱（誰改的名字？）的小店，誰知道甫坐下就被白眼了兩三下！頭頂的電視機播放著張國榮張學友的首本名曲，大家如若無人之境在唱歌，餐廳裡面開懷大嚼的食客都樂在其中呢。蛋炒腸粉：姨姨不吝嗇的放了麻醬和甜醬，配煎的香口的腸粉很配！<sssss>串燒：燒燒賣和燒雞肉<sssss>不是最多人的選擇，卻對燒賣外脆內軟的酥口感毫無抵抗力呢！常知道招牌的雞翼、雞全翼和茄子，但是雞肉也很有水準呢！下單的時候姨姨會問辣度，叫不辣的話串燒也有惹味的孜然粉吊味。\n",
            "{'label': 'star 4', 'score': 0.7213998436927795} 2 呢到食面都係普通咁叫幾餸。特別之處係叫湯可以有湯渣。小弟最愛食湯渣，D肉煲到好軟綿綿，但又未煲出哂D味。D肉又吸收咗幾他材料嘅味道，好味。呢到嘅串燒都唔錯，好惹味，唔似其他地方咁燒到乾哂，但唔算太平。\n",
            "{'label': 'star 1', 'score': 0.4846546947956085} 1 我好少寫食評, 今日都忍唔住要寫一寫見到網上介紹所以試下~ 6:30到達不用等位先來招牌龍蝦鍋~龍蝦肉質好淋又梅梅地美國桶蠔~第一次食咁細隻的桶蠔，一桶竟然有10隻(侍應話美國桶蠔係計成桶重量, 所以唔關大細事既. OK你咁講我都無謂同你嘈, 算數)餐廳推介的勁芫茜豬肉餃一d芫茜味都無, 好失望同一般豬肉餃無分別其他食物正常, 沒有什麼特別. 5個人食左$1500, 不算便宜, 一點都不值得. 中伏後唔會有下一次<sssss><sssss><sssss>\n",
            "{'label': 'star 1', 'score': 0.7704842686653137} 0 食物質量差，超低性價比牛肉很薄，沒有牛肉味，賣295元，”盜鄉”的安格斯牛肉比他好食好多水餃中下貨色，賣65元蝦丸不爽口，墨魚丸不彈牙，超市買的都比他好食礦泉水沒有冰凍的，只有常溫食物份量小，價錢不少食物選料方面，廚師根本不知道客戶要什麼，隨便給你吃Gas 爐火力太弱，滾唔起，換新的也差不多，整晚在等食唯一可取的是大大碗的辣椒，蔥花和蒜蓉 從未吃過那麼差的火鍋父親節星期天，6：30吃到8點，枱也不滿下次不再幫襯了，不會推薦給朋友\n",
            "{'label': 'star 5', 'score': 0.6991421580314636} 3 好好彩當晚唔洗等位，一入就已被告知只有1.5 小時。去為食仔就當然要食卜卜蜆煲啦！一入去立刻落單，很快就來了！<sssss>美中不足的是沒有蓋，時間等得有點久啊！終於等到啦<sssss>超大隻！！超鮮味！！我們還點了自家製的紫菜響鈴！只可惜我們瘋狂進食，忘了拍照最值得一讚的是 場內的哥哥仔都好快手又好人好helpful!最後不小心超時了10分鐘都沒有瘋狂熱趕我們走最後埋單每人$299，好抵（因為有牛魔王狂食牛）呢餐超飽超滿足！重點嘅係醬料有我最愛嘅葱加分加分！\n",
            "{'label': 'star 4', 'score': 0.5720525979995728} 3 見到好多朋友是上網食卜卜蜆呃like，所以就去試下啦。嗰度環境就比較窄，但係服務人員態度良好，會自動介紹你有咩新鮮，有咩好食，等你唔駛咁迷惘。卜卜蜆好快就上，個樣好新鮮，食落就甩甩地，都幾鮮味架。不過有一兩隻蜆有沙囉，都正常嘅。我哋再叫咗碟肥牛，紫菜響鈴，都幾新鮮。啲職員都會好頻密咁幫你掉走啲蜆殼去嘅，👍🏻！唔駛等你食到死枱都係。不過大部分嘢飲都係鴻福堂嘅樽裝嘢飲，所以選擇就不太多，如果有啲特飲就好啦！<sssss><sssss><sssss><sssss>\n",
            "{'label': 'star 5', 'score': 0.533179759979248} 3 係太古睇完戲都10點幾，好多餐廳都關門。所以專登搭車出去銅鑼灣食野，咁放諗住食麵算啦，突然諗起好耐都冇去食傷心酸辣粉啦，就決定去食。<sssss>酸辣粉BB辣，今次既BB辣送到嚟已經發現個湯一D紅色都無，同清湯無分別，估唔到飲左食啖湯真係同唔辣無分別呀, 平時食既BB辣個湯都係紅既，仲要有辣味……而今次真係要自己加辣椒油先得。薯粉一樣係咁彈牙<sssss>蒜泥白肉，好多蒜泥超足料，夠香夠濃味，肉又大塊。<sssss>雞軟骨，外層炸得香脆，一定要沾泰式酸辣醬就最好食啦~\n",
            "{'label': 'star 3', 'score': 0.4455358684062958} 3 中辣的傷心酸辣粉真的超級辣 快要辣哭了水煮魚好好食，魚肉超級嫩 辣度也剛剛好夥伴點了雞絲涼麵 覺得也是一般般的 超級超級辣涼拌海帶絲還有口水雞不推薦 並不是很好食呢平時生意很好\n",
            "{'label': 'star 2', 'score': 0.5870619416236877} 1 兒時爸爸最喜歡飲茶嘅地方～鳯城，好耐冇食，今日同朋友去懷舊一下。一般酒家嘅裝修及格局，點了菠蘿咕嚕肉（真的太甜了！少少酸都冇，攻鼻的香味更加欠奉）梅菜蒸菜心（冇弾亦冇讚，普通普通）鮑魚鵝掌煲（原全不合格，鵝掌是夠淋的，但沒有一點味道，其實最重要係個汁。但好失望一點味都冇）失敗！點解會咁嘅？小時候的味道！小時候的回憶！一去不返了！<sssss><sssss><sssss><sssss>\n",
            "{'label': 'star 5', 'score': 0.5618959069252014} 3 媽咪生日揀咗好耐唔知去邊度食飯, 最後決定揀咗鳳城！頭盤叫咗個例牌燒肉+蝦多士,味道新鮮又夠熱！因為太好味所以相都未影就食晒接著最出名嘅大良炒鮮奶及蓮藕餅但 媽媽話炒鲜奶老咗DD, 但我覺得蓮藕餅味道错！最惹味係茄子煲仲有出名嘅炸子雞, 炸子雞肉嫩D皮又夠趣！妹妹特點一個生炒桂魚卷比媽媽食, 我反覺Ok la 因為D西蘭花未夠淋,而生菜包都滿意！最後嘅甜品係必食西米布甸熱辣辣而且有蓮蓉香味😍<sssss>\n",
            "{'label': 'star 4', 'score': 0.6465937495231628} 2 只來過食晚餐, 飲茶倒是第一次.星期日中午都竟不太多人, 上樓上馬上有位.叫了幾味標準點心, 燒賣排骨义腸等, 全都好正常, 係d 燒賣肥左d.义腸要讚, 多义燒, 腸又好食.$45 的海蜇雞就比較少雞.... 好似係最唔抵食.... <sssss>服務不錯, 已好快手.3人食了約350蚊, 真的唔平.其實上次食晚餐都冇食出名的河鮮, <sssss>或下次一試吧.另見好多人都食燒味, 尤其係燒腩仔, 看也好正呢...\n",
            "{'label': 'star 3', 'score': 0.43755531311035156} 2 今日下午去鳳城不過我地選擇唔飲茶...叫餸吃飯~~叫左:大良野雞卷:麻麻地，炸到好乾......唔係好脆而且無咩味道....一d都唔香....所以覺得好失望..唔好食!香橙焗肉排:呢個ok wor! 好香橙味! 不過我嫌佢d肉排都幾多肥膏! 不過味口ok!燒腩仔:呢個好味。塊皮好香好脆，燒肉又夠味...唔會話好肥...GD!白飯:唔係幾好...無飯香..應該話一D味都無，而且好淋....我覺得硬身D好味D。甜品:勉勉強強，不過不失。好彩我地有卷...補少少錢就得，如果唔係都幾貴下!\n",
            "{'label': 'star 4', 'score': 0.3381214439868927} 2 係英皇道行，完全無心水食咩，行行下見到薩利亞同大x樂, 諗住是但食一間算，所以就揀左薩利亞蒜蓉包夠脆夠蒜蓉，好食<sssss>地中海海鮮焗飯，一食落去，咦！麥當當漢堡包味, 莫非係分子料理  真係成個飯都係漢堡包味，一DD海鮮味都無墨魚汁意粉，得幾條魷魚，成碟就係墨魚汁撈意粉，好左D墨魚汁都算OK<sssss>\n"
          ],
          "name": "stdout"
        }
      ]
    },
    {
      "cell_type": "code",
      "metadata": {
        "colab": {
          "background_save": true,
          "base_uri": "https://localhost:8080/",
          "height": 314
        },
        "id": "_wepO7XbBY6X",
        "outputId": "b892438b-2efb-4b3f-f17c-9ccb67b408b0"
      },
      "source": [
        "# Fine-tuning with Trainer\n",
        "\n",
        "training_args = TrainingArguments(\n",
        "    output_dir='./results',          # output directory\n",
        "    num_train_epochs=3,              # total number of training epochs\n",
        "    per_device_train_batch_size=16,  # batch size per device during training\n",
        "    per_device_eval_batch_size=64,   # batch size for evaluation\n",
        "    warmup_steps=500,                # number of warmup steps for learning rate scheduler\n",
        "    weight_decay=0.01,               # strength of weight decay\n",
        "    logging_dir='./logs',            # directory for storing logs\n",
        "    logging_steps=10,\n",
        ")\n",
        "\n",
        "trainer = Trainer(\n",
        "    model=model,                         # the instantiated 🤗 Transformers model to be trained\n",
        "    args=training_args,                  # training arguments, defined above\n",
        "    train_dataset=train_dataset,         # training dataset\n",
        "    eval_dataset=eval_dataset            # evaluation dataset\n",
        ")\n",
        "\n",
        "trainer.train()\n",
        "\n",
        "trainer.save_model()"
      ],
      "execution_count": null,
      "outputs": [
        {
          "output_type": "stream",
          "text": [
            "***** Running training *****\n",
            "  Num examples = 128\n",
            "  Num Epochs = 3\n",
            "  Instantaneous batch size per device = 16\n",
            "  Total train batch size (w. parallel, distributed & accumulation) = 16\n",
            "  Gradient Accumulation steps = 1\n",
            "  Total optimization steps = 24\n"
          ],
          "name": "stderr"
        },
        {
          "output_type": "display_data",
          "data": {
            "text/html": [
              "\n",
              "    <div>\n",
              "      \n",
              "      <progress value='24' max='24' style='width:300px; height:20px; vertical-align: middle;'></progress>\n",
              "      [24/24 14:48, Epoch 3/3]\n",
              "    </div>\n",
              "    <table border=\"1\" class=\"dataframe\">\n",
              "  <thead>\n",
              "    <tr style=\"text-align: left;\">\n",
              "      <th>Step</th>\n",
              "      <th>Training Loss</th>\n",
              "    </tr>\n",
              "  </thead>\n",
              "  <tbody>\n",
              "    <tr>\n",
              "      <td>10</td>\n",
              "      <td>1.214700</td>\n",
              "    </tr>\n",
              "    <tr>\n",
              "      <td>20</td>\n",
              "      <td>1.143400</td>\n",
              "    </tr>\n",
              "  </tbody>\n",
              "</table><p>"
            ],
            "text/plain": [
              "<IPython.core.display.HTML object>"
            ]
          },
          "metadata": {
            "tags": []
          }
        },
        {
          "output_type": "stream",
          "text": [
            "\n",
            "\n",
            "Training completed. Do not forget to share your model on huggingface.co/models =)\n",
            "\n",
            "\n",
            "Saving model checkpoint to ./results\n",
            "Configuration saved in ./results/config.json\n",
            "Model weights saved in ./results/pytorch_model.bin\n"
          ],
          "name": "stderr"
        }
      ]
    },
    {
      "cell_type": "code",
      "metadata": {
        "colab": {
          "background_save": true
        },
        "id": "KH1YLpZSixNn"
      },
      "source": [
        "# Fine-tuning with native PyTorc\n",
        "\n",
        "# from torch.utils.data import DataLoader\n",
        "# from transformers import AdamW\n",
        "\n",
        "# device = torch.device('cuda') if torch.cuda.is_available() else torch.device('cpu')\n",
        "\n",
        "# model = AutoModelForSequenceClassification.from_pretrained(CHECKPOINT)\n",
        "# model.to(device)\n",
        "# model.train()\n",
        "\n",
        "# train_loader = DataLoader(train_dataset, batch_size=16, shuffle=True)\n",
        "\n",
        "# optim = AdamW(model.parameters(), lr=5e-5)\n",
        "\n",
        "# for epoch in range(3):\n",
        "#     for batch in train_loader:\n",
        "#         optim.zero_grad()\n",
        "#         input_ids = batch['input_ids'].to(device)\n",
        "#         attention_mask = batch['attention_mask'].to(device)\n",
        "#         labels = batch['labels'].to(device)\n",
        "#         outputs = model(input_ids, attention_mask=attention_mask, labels=labels)\n",
        "#         loss = outputs[0]\n",
        "#         loss.backward()\n",
        "#         optim.step()\n",
        "\n",
        "# model.eval()"
      ],
      "execution_count": null,
      "outputs": []
    },
    {
      "cell_type": "code",
      "metadata": {
        "colab": {
          "background_save": true
        },
        "id": "8jVYHzup2boL",
        "outputId": "2ab9f6ed-b277-491d-910d-86621f1ec8c9"
      },
      "source": [
        "# Give the fine-tuned model a try!\n",
        "\n",
        "model = AutoModelForSequenceClassification.from_pretrained('./results')\n",
        "\n",
        "print(df_test)\n",
        "\n",
        "text_classification = pipeline('sentiment-analysis', model=model, tokenizer=tokenizer)\n",
        "results = text_classification(df_test.iloc[:,1].values.tolist())\n",
        "\n",
        "for i in range(len(df_test)):\n",
        "    print(results[i], df_test[0][i]-1, df_test[1][i])\n",
        "\n"
      ],
      "execution_count": null,
      "outputs": [
        {
          "output_type": "stream",
          "text": [
            "loading configuration file ./results/config.json\n",
            "Model config BertConfig {\n",
            "  \"_name_or_path\": \"uer/roberta-base-finetuned-jd-full-chinese\",\n",
            "  \"architectures\": [\n",
            "    \"BertForSequenceClassification\"\n",
            "  ],\n",
            "  \"attention_probs_dropout_prob\": 0.1,\n",
            "  \"gradient_checkpointing\": false,\n",
            "  \"hidden_act\": \"gelu\",\n",
            "  \"hidden_dropout_prob\": 0.1,\n",
            "  \"hidden_size\": 768,\n",
            "  \"id2label\": {\n",
            "    \"0\": \"star 1\",\n",
            "    \"1\": \"star 2\",\n",
            "    \"2\": \"star 3\",\n",
            "    \"3\": \"star 4\",\n",
            "    \"4\": \"star 5\"\n",
            "  },\n",
            "  \"initializer_range\": 0.02,\n",
            "  \"intermediate_size\": 3072,\n",
            "  \"label2id\": {\n",
            "    \"star 1\": 0,\n",
            "    \"star 2\": 1,\n",
            "    \"star 3\": 2,\n",
            "    \"star 4\": 3,\n",
            "    \"star 5\": 4\n",
            "  },\n",
            "  \"layer_norm_eps\": 1e-12,\n",
            "  \"max_position_embeddings\": 512,\n",
            "  \"model_type\": \"bert\",\n",
            "  \"num_attention_heads\": 12,\n",
            "  \"num_hidden_layers\": 12,\n",
            "  \"pad_token_id\": 0,\n",
            "  \"position_embedding_type\": \"absolute\",\n",
            "  \"problem_type\": \"single_label_classification\",\n",
            "  \"torch_dtype\": \"float32\",\n",
            "  \"transformers_version\": \"4.9.0\",\n",
            "  \"type_vocab_size\": 2,\n",
            "  \"use_cache\": true,\n",
            "  \"vocab_size\": 21128\n",
            "}\n",
            "\n",
            "loading weights file ./results/pytorch_model.bin\n",
            "All model checkpoint weights were used when initializing BertForSequenceClassification.\n",
            "\n",
            "All the weights of BertForSequenceClassification were initialized from the model checkpoint at ./results.\n",
            "If your task is similar to the task the model of the checkpoint was trained on, you can already use BertForSequenceClassification for predictions without further training.\n"
          ],
          "name": "stderr"
        },
        {
          "output_type": "stream",
          "text": [
            "    0                                                  1\n",
            "0   5  <sssss>   一條舊街，一條石屎樓梯，一望親切嘅裝修，原來係金利來老闆，佢張金利來定咗...\n",
            "1   3  工作忙碌, 有時候連吃飯的時間也減少了, 唯有近近地找個便利的地方吃午餐, 其實這裡勝在地方...\n",
            "2   4  串燒宵夜🍢😋聽講美味佳好出名，終於俾我試到啦。十一點左右去到唔洗等位，野食等左大約半個鐘就黎...\n",
            "3   3  怕排隊，特意提前出門的時間半走半跑的來到有「紅磡之寶」之稱（誰改的名字？）的小店，誰知道甫坐...\n",
            "4   3  呢到食面都係普通咁叫幾餸。特別之處係叫湯可以有湯渣。小弟最愛食湯渣，D肉煲到好軟綿綿，但又未...\n",
            "5   2  我好少寫食評, 今日都忍唔住要寫一寫見到網上介紹所以試下~ 6:30到達不用等位先來招牌龍蝦...\n",
            "6   1  食物質量差，超低性價比牛肉很薄，沒有牛肉味，賣295元，”盜鄉”的安格斯牛肉比他好食好多水餃...\n",
            "7   4  好好彩當晚唔洗等位，一入就已被告知只有1.5 小時。去為食仔就當然要食卜卜蜆煲啦！一入去立刻...\n",
            "8   4  見到好多朋友是上網食卜卜蜆呃like，所以就去試下啦。嗰度環境就比較窄，但係服務人員態度良好...\n",
            "9   4  係太古睇完戲都10點幾，好多餐廳都關門。所以專登搭車出去銅鑼灣食野，咁放諗住食麵算啦，突然諗...\n",
            "10  4  中辣的傷心酸辣粉真的超級辣 快要辣哭了水煮魚好好食，魚肉超級嫩 辣度也剛剛好夥伴點了雞絲涼麵...\n",
            "11  2  兒時爸爸最喜歡飲茶嘅地方～鳯城，好耐冇食，今日同朋友去懷舊一下。一般酒家嘅裝修及格局，點了菠...\n",
            "12  4  媽咪生日揀咗好耐唔知去邊度食飯, 最後決定揀咗鳳城！頭盤叫咗個例牌燒肉+蝦多士,味道新鮮又夠...\n",
            "13  3  只來過食晚餐, 飲茶倒是第一次.星期日中午都竟不太多人, 上樓上馬上有位.叫了幾味標準點心,...\n",
            "14  3  今日下午去鳳城不過我地選擇唔飲茶...叫餸吃飯~~叫左:大良野雞卷:麻麻地，炸到好乾.......\n",
            "15  3  係英皇道行，完全無心水食咩，行行下見到薩利亞同大x樂, 諗住是但食一間算，所以就揀左薩利亞蒜...\n",
            "{'label': 'star 4', 'score': 0.6223757266998291} 4 <sssss>   一條舊街，一條石屎樓梯，一望親切嘅裝修，原來係金利來老闆，佢張金利來定咗比人，諗注退休！年半後覚得好悶，所以搵咗宜個地方再聚！酥炸德國咸豬手好乾身，話梅骨其實係糖醋猅骨（腩排）之不過唔用檸檬用話梅，味道唔錯😋！四川辣之雞😋😋😋😋(宜間叫小辣已經有汗珠係唇上啦！食完有糖水送！ 酥炸咸豬手😋    <sssss>話梅骨😋<sssss>      辣子雞(小辣)😋😋😋😋😋<sssss> 糖水<sssss>\n",
            "{'label': 'star 4', 'score': 0.67598956823349} 2 工作忙碌, 有時候連吃飯的時間也減少了, 唯有近近地找個便利的地方吃午餐, 其實這裡勝在地方大, 要找位是比較容易.香茅豬扒飯 $39這天就選來了香茅豬扒飯, 豬扒是炸得幾香脆, 但不算太油, 以茶記來講, 很難得了. 而香茅就很好送飯. 兩三下已經吃光了.<sssss>凍檸茶 +$2要了凍檸茶, 加$2, 但就幾有茶味.這裡午市相當旺場, 水準是不錯的.\n",
            "{'label': 'star 4', 'score': 0.7302141189575195} 3 串燒宵夜🍢😋聽講美味佳好出名，終於俾我試到啦。十一點左右去到唔洗等位，野食等左大約半個鐘就黎齊。傳聞中必食既蛋炒腸粉好好味，老實講係冇乜特別，只係腸粉表面脆脆的😋鷄全翼燒得好香，肉質啱啱好唔會硬，有少少蜜糖味同好多孜然粉味😋整體黎講中上，不過同九龍城既蘭英比較，都係蘭英好食d(佢個汁真係冇得頂😍)講到咁出名，其實都係普通串燒，值得一試但唔會去多幾次，試下新舖頭仲好😂<sssss><sssss><sssss><sssss>\n",
            "{'label': 'star 5', 'score': 0.5160322189331055} 2 怕排隊，特意提前出門的時間半走半跑的來到有「紅磡之寶」之稱（誰改的名字？）的小店，誰知道甫坐下就被白眼了兩三下！頭頂的電視機播放著張國榮張學友的首本名曲，大家如若無人之境在唱歌，餐廳裡面開懷大嚼的食客都樂在其中呢。蛋炒腸粉：姨姨不吝嗇的放了麻醬和甜醬，配煎的香口的腸粉很配！<sssss>串燒：燒燒賣和燒雞肉<sssss>不是最多人的選擇，卻對燒賣外脆內軟的酥口感毫無抵抗力呢！常知道招牌的雞翼、雞全翼和茄子，但是雞肉也很有水準呢！下單的時候姨姨會問辣度，叫不辣的話串燒也有惹味的孜然粉吊味。\n",
            "{'label': 'star 4', 'score': 0.7674735188484192} 2 呢到食面都係普通咁叫幾餸。特別之處係叫湯可以有湯渣。小弟最愛食湯渣，D肉煲到好軟綿綿，但又未煲出哂D味。D肉又吸收咗幾他材料嘅味道，好味。呢到嘅串燒都唔錯，好惹味，唔似其他地方咁燒到乾哂，但唔算太平。\n",
            "{'label': 'star 2', 'score': 0.4175771474838257} 1 我好少寫食評, 今日都忍唔住要寫一寫見到網上介紹所以試下~ 6:30到達不用等位先來招牌龍蝦鍋~龍蝦肉質好淋又梅梅地美國桶蠔~第一次食咁細隻的桶蠔，一桶竟然有10隻(侍應話美國桶蠔係計成桶重量, 所以唔關大細事既. OK你咁講我都無謂同你嘈, 算數)餐廳推介的勁芫茜豬肉餃一d芫茜味都無, 好失望同一般豬肉餃無分別其他食物正常, 沒有什麼特別. 5個人食左$1500, 不算便宜, 一點都不值得. 中伏後唔會有下一次<sssss><sssss><sssss>\n",
            "{'label': 'star 1', 'score': 0.7304967641830444} 0 食物質量差，超低性價比牛肉很薄，沒有牛肉味，賣295元，”盜鄉”的安格斯牛肉比他好食好多水餃中下貨色，賣65元蝦丸不爽口，墨魚丸不彈牙，超市買的都比他好食礦泉水沒有冰凍的，只有常溫食物份量小，價錢不少食物選料方面，廚師根本不知道客戶要什麼，隨便給你吃Gas 爐火力太弱，滾唔起，換新的也差不多，整晚在等食唯一可取的是大大碗的辣椒，蔥花和蒜蓉 從未吃過那麼差的火鍋父親節星期天，6：30吃到8點，枱也不滿下次不再幫襯了，不會推薦給朋友\n",
            "{'label': 'star 5', 'score': 0.5562819838523865} 3 好好彩當晚唔洗等位，一入就已被告知只有1.5 小時。去為食仔就當然要食卜卜蜆煲啦！一入去立刻落單，很快就來了！<sssss>美中不足的是沒有蓋，時間等得有點久啊！終於等到啦<sssss>超大隻！！超鮮味！！我們還點了自家製的紫菜響鈴！只可惜我們瘋狂進食，忘了拍照最值得一讚的是 場內的哥哥仔都好快手又好人好helpful!最後不小心超時了10分鐘都沒有瘋狂熱趕我們走最後埋單每人$299，好抵（因為有牛魔王狂食牛）呢餐超飽超滿足！重點嘅係醬料有我最愛嘅葱加分加分！\n",
            "{'label': 'star 4', 'score': 0.6405015587806702} 3 見到好多朋友是上網食卜卜蜆呃like，所以就去試下啦。嗰度環境就比較窄，但係服務人員態度良好，會自動介紹你有咩新鮮，有咩好食，等你唔駛咁迷惘。卜卜蜆好快就上，個樣好新鮮，食落就甩甩地，都幾鮮味架。不過有一兩隻蜆有沙囉，都正常嘅。我哋再叫咗碟肥牛，紫菜響鈴，都幾新鮮。啲職員都會好頻密咁幫你掉走啲蜆殼去嘅，👍🏻！唔駛等你食到死枱都係。不過大部分嘢飲都係鴻福堂嘅樽裝嘢飲，所以選擇就不太多，如果有啲特飲就好啦！<sssss><sssss><sssss><sssss>\n",
            "{'label': 'star 4', 'score': 0.5027912855148315} 3 係太古睇完戲都10點幾，好多餐廳都關門。所以專登搭車出去銅鑼灣食野，咁放諗住食麵算啦，突然諗起好耐都冇去食傷心酸辣粉啦，就決定去食。<sssss>酸辣粉BB辣，今次既BB辣送到嚟已經發現個湯一D紅色都無，同清湯無分別，估唔到飲左食啖湯真係同唔辣無分別呀, 平時食既BB辣個湯都係紅既，仲要有辣味……而今次真係要自己加辣椒油先得。薯粉一樣係咁彈牙<sssss>蒜泥白肉，好多蒜泥超足料，夠香夠濃味，肉又大塊。<sssss>雞軟骨，外層炸得香脆，一定要沾泰式酸辣醬就最好食啦~\n",
            "{'label': 'star 3', 'score': 0.4379512369632721} 3 中辣的傷心酸辣粉真的超級辣 快要辣哭了水煮魚好好食，魚肉超級嫩 辣度也剛剛好夥伴點了雞絲涼麵 覺得也是一般般的 超級超級辣涼拌海帶絲還有口水雞不推薦 並不是很好食呢平時生意很好\n",
            "{'label': 'star 2', 'score': 0.5721368789672852} 1 兒時爸爸最喜歡飲茶嘅地方～鳯城，好耐冇食，今日同朋友去懷舊一下。一般酒家嘅裝修及格局，點了菠蘿咕嚕肉（真的太甜了！少少酸都冇，攻鼻的香味更加欠奉）梅菜蒸菜心（冇弾亦冇讚，普通普通）鮑魚鵝掌煲（原全不合格，鵝掌是夠淋的，但沒有一點味道，其實最重要係個汁。但好失望一點味都冇）失敗！點解會咁嘅？小時候的味道！小時候的回憶！一去不返了！<sssss><sssss><sssss><sssss>\n",
            "{'label': 'star 4', 'score': 0.5582324862480164} 3 媽咪生日揀咗好耐唔知去邊度食飯, 最後決定揀咗鳳城！頭盤叫咗個例牌燒肉+蝦多士,味道新鮮又夠熱！因為太好味所以相都未影就食晒接著最出名嘅大良炒鮮奶及蓮藕餅但 媽媽話炒鲜奶老咗DD, 但我覺得蓮藕餅味道错！最惹味係茄子煲仲有出名嘅炸子雞, 炸子雞肉嫩D皮又夠趣！妹妹特點一個生炒桂魚卷比媽媽食, 我反覺Ok la 因為D西蘭花未夠淋,而生菜包都滿意！最後嘅甜品係必食西米布甸熱辣辣而且有蓮蓉香味😍<sssss>\n",
            "{'label': 'star 4', 'score': 0.715590238571167} 2 只來過食晚餐, 飲茶倒是第一次.星期日中午都竟不太多人, 上樓上馬上有位.叫了幾味標準點心, 燒賣排骨义腸等, 全都好正常, 係d 燒賣肥左d.义腸要讚, 多义燒, 腸又好食.$45 的海蜇雞就比較少雞.... 好似係最唔抵食.... <sssss>服務不錯, 已好快手.3人食了約350蚊, 真的唔平.其實上次食晚餐都冇食出名的河鮮, <sssss>或下次一試吧.另見好多人都食燒味, 尤其係燒腩仔, 看也好正呢...\n",
            "{'label': 'star 3', 'score': 0.5025805830955505} 2 今日下午去鳳城不過我地選擇唔飲茶...叫餸吃飯~~叫左:大良野雞卷:麻麻地，炸到好乾......唔係好脆而且無咩味道....一d都唔香....所以覺得好失望..唔好食!香橙焗肉排:呢個ok wor! 好香橙味! 不過我嫌佢d肉排都幾多肥膏! 不過味口ok!燒腩仔:呢個好味。塊皮好香好脆，燒肉又夠味...唔會話好肥...GD!白飯:唔係幾好...無飯香..應該話一D味都無，而且好淋....我覺得硬身D好味D。甜品:勉勉強強，不過不失。好彩我地有卷...補少少錢就得，如果唔係都幾貴下!\n",
            "{'label': 'star 4', 'score': 0.5115963816642761} 2 係英皇道行，完全無心水食咩，行行下見到薩利亞同大x樂, 諗住是但食一間算，所以就揀左薩利亞蒜蓉包夠脆夠蒜蓉，好食<sssss>地中海海鮮焗飯，一食落去，咦！麥當當漢堡包味, 莫非係分子料理  真係成個飯都係漢堡包味，一DD海鮮味都無墨魚汁意粉，得幾條魷魚，成碟就係墨魚汁撈意粉，好左D墨魚汁都算OK<sssss>\n"
          ],
          "name": "stdout"
        }
      ]
    }
  ]
}