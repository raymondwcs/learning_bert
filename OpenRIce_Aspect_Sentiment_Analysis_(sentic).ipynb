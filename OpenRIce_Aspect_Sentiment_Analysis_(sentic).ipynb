{
  "nbformat": 4,
  "nbformat_minor": 0,
  "metadata": {
    "colab": {
      "name": "OpenRIce - Aspect Sentiment Analysis (sentic).ipynb",
      "provenance": [],
      "collapsed_sections": [],
      "authorship_tag": "ABX9TyO227DaZgF8FJYyH7jwUQhJ",
      "include_colab_link": true
    },
    "kernelspec": {
      "name": "python3",
      "display_name": "Python 3"
    },
    "language_info": {
      "name": "python"
    }
  },
  "cells": [
    {
      "cell_type": "markdown",
      "metadata": {
        "id": "view-in-github",
        "colab_type": "text"
      },
      "source": [
        "<a href=\"https://colab.research.google.com/github/raymondwcs/learning_bert/blob/master/OpenRIce_Aspect_Sentiment_Analysis_(sentic).ipynb\" target=\"_parent\"><img src=\"https://colab.research.google.com/assets/colab-badge.svg\" alt=\"Open In Colab\"/></a>"
      ]
    },
    {
      "cell_type": "markdown",
      "metadata": {
        "id": "ps4MXywqkbZa"
      },
      "source": [
        "\n",
        "# senti_c (Traditional Chinese sentiment analysis tool based on BERT)\n",
        "https://pypi.org/project/senti-c/"
      ]
    },
    {
      "cell_type": "code",
      "metadata": {
        "colab": {
          "base_uri": "https://localhost:8080/"
        },
        "id": "MSgUbGYeTAR9",
        "outputId": "05b0a59e-67fc-4cc4-92ef-4d6b7e746348"
      },
      "source": [
        "!git clone https://github.com/toastynews/openrice-senti.git\n",
        "!pip install --quiet senti_c --no-binary=wrapt,termcolor,sacremoses"
      ],
      "execution_count": 1,
      "outputs": [
        {
          "output_type": "stream",
          "text": [
            "Cloning into 'openrice-senti'...\n",
            "remote: Enumerating objects: 10, done.\u001b[K\n",
            "remote: Counting objects: 100% (10/10), done.\u001b[K\n",
            "remote: Compressing objects: 100% (9/9), done.\u001b[K\n",
            "remote: Total 10 (delta 1), reused 7 (delta 0), pack-reused 0\u001b[K\n",
            "Unpacking objects: 100% (10/10), done.\n",
            "\u001b[K     |████████████████████████████████| 50 kB 3.6 MB/s \n",
            "\u001b[K     |████████████████████████████████| 674 kB 16.1 MB/s \n",
            "\u001b[K     |████████████████████████████████| 516.2 MB 4.1 kB/s \n",
            "\u001b[K     |████████████████████████████████| 454 kB 43.6 MB/s \n",
            "\u001b[K     |████████████████████████████████| 3.0 MB 46.2 MB/s \n",
            "\u001b[K     |████████████████████████████████| 2.9 MB 26.2 MB/s \n",
            "\u001b[K     |████████████████████████████████| 5.6 MB 31.1 MB/s \n",
            "\u001b[K     |████████████████████████████████| 1.2 MB 37.2 MB/s \n",
            "\u001b[K     |████████████████████████████████| 880 kB 50.5 MB/s \n",
            "\u001b[?25h    Running setup.py install for sacremoses ... \u001b[?25l\u001b[?25hdone\n"
          ],
          "name": "stdout"
        }
      ]
    },
    {
      "cell_type": "code",
      "metadata": {
        "id": "WZqtRCUiTI1I"
      },
      "source": [
        "import pandas as pd"
      ],
      "execution_count": 3,
      "outputs": []
    },
    {
      "cell_type": "code",
      "metadata": {
        "id": "-rfmW9aDTV5J"
      },
      "source": [
        "train_data = pd.read_csv(\"openrice-senti/train.tsv\", delimiter=\"\\t\")\n",
        "test_data = pd.read_csv(\"openrice-senti/test.tsv\", delimiter=\"\\t\")\n",
        "valid_data = pd.read_csv(\"openrice-senti/valid.tsv\", delimiter=\"\\t\")"
      ],
      "execution_count": 4,
      "outputs": []
    },
    {
      "cell_type": "code",
      "metadata": {
        "colab": {
          "base_uri": "https://localhost:8080/"
        },
        "id": "Fx8OETLTTdSi",
        "outputId": "644018b2-84b9-4e99-c257-fb58b33738f1"
      },
      "source": [
        "from senti_c import SentenceSentimentClassification\n",
        "\n",
        "sentence_classifier = SentenceSentimentClassification(logging_level = \"warning\")\n",
        "\n",
        "sentences = train_data.iloc[0:10,1].values.tolist()\n",
        "\n",
        "result = sentence_classifier.predict(sentences, run_split = True, aggregate_strategy = False)\n",
        "print(result.iloc[:, 1:])"
      ],
      "execution_count": 7,
      "outputs": [
        {
          "output_type": "stream",
          "text": [
            "Predicting: 100%|██████████| 5/5 [00:30<00:00,  6.06s/it]"
          ],
          "name": "stderr"
        },
        {
          "output_type": "stream",
          "text": [
            "                                            Sentences Preds\n",
            "0                          正宗大板燒 🐿🐿TOP開左都一段日子，餐廳都好幾層！    正面\n",
            "1         今日就嚟試下千房(^^) 大板燒專門店🤤🤤   千房位於4樓，有bar枱同普通卡位揀！    中性\n",
            "2                                       想自己diy就要坐卡位啦！    中性\n",
            "3     我地就揀左坐bar枱，師傅燒，唔洗煩haha👅 先要左個千房燒($108)😮😮 材料好豐富架！    正面\n",
            "4   有牛肉、豬肉、蝦等等🌞食落口感非常多層，入面嘅蔬菜粒食得出種類繁多，所以味道好rich 😀😀...    正面\n",
            "5   十足十日本食過嘅😽😽 枱面仲有木魚可以任加😍😍😍 另外叫左芝士波菜🤤 芝士多過菜咁濟☺️非常...    正面\n",
            "6   唔見得比其他酒家特別好食 一行7人到此酒家食晚飯, 7道海鮮 + 雞連炒飯 & 炒菜共10道...    負面\n",
            "7   質素同價錢唔成正比 今日嚟到呢間牛肉麵店食晏，一個人食坐嘅位比較窄，但佢環境都好衛生同埋裝修...    衝突\n",
            "8           加上我點左要小棠菜做配料，但係最尾又俾咗其他菜我，而且啲菜又洽得唔夠熟，仲有啲硬。    負面\n",
            "9   我話要少酸菜，但係又俾咗好多酸菜我，好似唔係好跟我指示，加上我食呢一碗野要成$75 ，我覺得...    負面\n",
            "10       食一碗麵又唔係套餐，冇得加嘢飲，仲要收+1，如果呢個價錢，呢隻味道我未必會再去幫襯一次。    負面\n",
            "11  燒汁雞扒刈包好味 上星期和朋友去杏花邨睇波鞋啲時候，覺得肚餓，於是就落咗一層睇下有咩下午餐好...    正面\n",
            "12  俾錢後，才慢慢揀位坐，因店舖都算幾大，坐位都算多，坐低大約五分鐘就有嘢食啦，最大驚喜竟然係個...    正面\n",
            "13  上海妹子 下午茶 我地一聚埋就會好想搵個地方坐低飲啖茶食個飽, 妹子佢話想食小籠包,下一秒我...    正面\n",
            "14                                               亮晶晶!    正面\n",
            "15                                  配上雞絲青瓜麻醬拌一拌,簡單美味!    正面\n",
            "16   問心對佢既小籠包我的確幾失望, 因為我地係為小籠包而來,但小籠包個皮好濕好厚, 啲肉雖然好...    負面\n",
            "17  冷氣聲大到影響心情 呢度食物sell健康 無雞粉 味精 激素 好似幾值得食 所以就叫左個慢煮...    衝突\n",
            "18  白雪雪烏冬☁️☁️ 朋友今日突然想食燒牛肉 就帶佢黎呢間吉列牛專門店食啦 我都五系第一次黎食啦！！    正面\n",
            "19   嘻嘻嘻    吉列牛定食  $148  定食有哂 湯🥣 ，飯 ，牛🥩 ，小菜 ... 都夠...    正面\n",
            "20   咖哩忌廉烏冬 ( 牛肉 )  $78  白雪雪 ☁️☁️ 好似雲呀 雲層下就系咖喱烏冬啦 ...    正面\n",
            "21    牛油蜜糖單骨雞翼 $65  一啖一件都幾方便食 ， 蜜糖令到外皮有少許脆脆地 蜜糖甜甜地...    正面\n",
            "22  挑戰麻辣五小的一天 瞓到\"黃朝八晏\"，諗唔到食乜只係想食辣，咁啱要去淘大就先食個三哥做lat...    中性\n",
            "23                                       從來我只會食酸辣或十小。    中性\n",
            "24  今日唔知哪來的自信，竟然想挑戰一下五小（本人喜歡吃辣但又不太會吃辣）  叫了一碟中囗味的雲耳...    正面\n",
            "25                                   𠵱，原來五小一啲都冇攻擊性！！！    負面\n",
            "26          完完全全可以handle到，但係冇乜麻同辣...好似退步左... 個乍醬少得過份!    負面\n",
            "27                             由以前佔滿滿半碟到依家連一湯匙ga份量都冇！    負面\n",
            "28                                             不能接受      負面\n",
            "29  得個平字.... 所有野係得雞扒飯最好食(士油)... set lunch好唔得.... 環...    負面\n",
            "30                        冬陰公好好食 食完呢間餐廳之後只想講一聲，冬陰公萬歲！    正面\n",
            "31   海鮮冬陰公浸娃娃菜 雖然價錢有少少貴，但係呢個冬陰公嘅酸辣真係好好食，唔會辣到你出晒汗，但...    正面\n",
            "32                           尤其是配左娃娃菜，娃娃菜完全吸收晒冬陰公嘅精華！    正面\n",
            "33                               芒果軟殼蟹米紙卷 軟殻蟹炸得10分香脆！    正面\n",
            "34  配上芒果嘅酸甜簡直係冇得彈  炒金邊粉 金邊粉嘅醬汁做得唔錯，每條面都吸收晒啲醬汁，但係略嫌...    衝突\n"
          ],
          "name": "stdout"
        },
        {
          "output_type": "stream",
          "text": [
            "\n"
          ],
          "name": "stderr"
        }
      ]
    },
    {
      "cell_type": "code",
      "metadata": {
        "colab": {
          "base_uri": "https://localhost:8080/"
        },
        "id": "lDKRhYTGb4sd",
        "outputId": "10aee340-e19f-4761-e5e6-04284520ef84"
      },
      "source": [
        "from senti_c import AspectSentimentAnalysis\n",
        "aspect_classifier = AspectSentimentAnalysis(logging_level = \"warning\")\n",
        "# test_data = [\"\"\"這間Fridays的空間不大，座位安排略顯擁擠，尤其是有隔板的兩人桌，真的超級小。服務人員態度很好，只是因為客人太多，感覺人手不足，要求東西常常要等好一陣子才來。如果希望有好一點的服務品質，建議避開週末用餐時段。\"\"\", \n",
        "#              \"\"\"每次經過都會被台灣炒飯給吸引，決定給它一個機會踏進去嚐鮮！有點失望，因為炒飯一般般，飯糰好難吃，冷氣超冷，串燒不推薦！ 唯一印象深刻的事... 蛤蜊好大顆，大蝦毛毛蟲好吃！ 整體環境不差，服務也可以，但餐點很一般\"\"\"]\n",
        "# result = aspect_classifier.predict(test_data, output_result = \"all\")\n",
        "result = aspect_classifier.predict(sentences, output_result = \"all\")\n",
        "\n",
        "print(\"Extracted aspect terms and their polarity:\")\n",
        "for i, aterms in enumerate(result['AspectTermAndSentimentExtraction']):\n",
        "    print(f\"Sentence {i}: {aterms}\")\n",
        "\n",
        "print(\"\\n ---\\nLabels for individual tokens:\")\n",
        "nseg = len(result['InputWords'])\n",
        "# result['AspectTermTags']\n",
        "for seg in range(nseg):\n",
        "    print(f\"\\n* Sentence {seg}:\")\n",
        "    a1 = result['InputWords'][seg]\n",
        "    a2 = result['AspectTermAndSentimentTags'][seg]\n",
        "    for x1, x2 in zip(a1, a2):\n",
        "        print(f\"{x1}({x2}) \", end = \"\")\n",
        "\n",
        "print(\"\")"
      ],
      "execution_count": null,
      "outputs": [
        {
          "output_type": "stream",
          "text": [
            "Predicting: 100%|██████████| 2/2 [00:04<00:00,  2.09s/it]\n"
          ],
          "name": "stderr"
        },
        {
          "output_type": "stream",
          "text": [
            "Extracted aspect terms and their polarity:\n",
            "Sentence 0: [('質素', 'POS')]\n",
            "Sentence 1: [('食物', 'POS'), ('飲品', 'NEG'), ('紅豆冰', 'NEG')]\n",
            "Sentence 2: [('餃子', 'NEG'), ('牛漢堡', 'NEG')]\n",
            "Sentence 3: [('餐牌', 'POS'), ('沖繩腐乳', 'POS')]\n",
            "Sentence 4: [('蛋撻', 'POS'), ('環境', 'POS'), ('蛋撻', 'POS'), ('蛋撻', 'POS')]\n",
            "Sentence 5: []\n",
            "Sentence 6: [('黃金卷', 'POS'), ('芝士', 'POS'), ('吉列', 'POS'), ('芝士', 'POS'), ('炸蝦', 'POS')]\n",
            "Sentence 7: [('造型', 'POS'), ('味道', 'POS')]\n",
            "Sentence 8: [('食物', 'NEG'), ('服務態度', 'NEG'), ('價錢', 'NEG')]\n",
            "Sentence 9: [('泰國菜', 'POS'), ('明爐香檸汁蒸桂花魚', 'POS')]\n",
            "\n",
            " ---\n",
            "Labels for individual tokens:\n",
            "\n",
            "* Sentence 0:\n",
            "用(O-O) 粥(O-O) 底(O-O) 嚟(O-O) 打(O-O) 邊(O-O) 爐(O-O) 黃(O-O) 氏(O-O) 力(O-O) 牆(O-O) 其(O-O) 實(O-O) 我(O-O) 想(O-O) 係(O-O) 呢(O-O) 一(O-O) 度(O-O) 打(O-O) 邊(O-O) 爐(O-O) 好(O-O) 耐(O-O) 啦(O-O) ，(O-O) 今(O-O) 日(O-O) 終(O-O) 於(O-O) 有(O-O) 機(O-O) 會(O-O) ！(O-O) 我(O-O) 叫(O-O) 左(O-O) 兩(O-O) 個(O-O) 一(O-O) 模(O-O) 一(O-O) 樣(O-O) 嘅(O-O) 火(O-O) 鍋(O-O) 餐(O-O) ，(O-O) 真(O-O) 係(O-O) 估(O-O) 佢(O-O) 唔(O-O) 到(O-O) ，(O-O) 我(O-O) 覺(O-O) 得(O-O) ＄(O-O) 7(O-O) 8(O-O) 有(O-O) 咁(O-O) 嘅(O-O) 質(B-POS) 素(I-POS) 唔(O-O) 錯(O-O) 架(O-O) ！(O-O) 如(O-O) 果(O-O) 大(O-O) 家(O-O) 有(O-O) 去(O-O) 開(O-O) 連(O-O) 鎖(O-O) 快(O-O) 餐(O-O) 店(O-O) 打(O-O) 邊(O-O) 爐(O-O) 的(O-O) 話(O-O) ，(O-O) 相(O-O) 比(O-O) 之(O-O) 下(O-O) 我(O-O) 會(O-O) 寧(O-O) 願(O-O) 選(O-O) 擇(O-O) 去(O-O) 呢(O-O) 一(O-O) 度(O-O) 打(O-O) 邊(O-O) 爐(O-O) ！(O-O) 點(O-O) 解(O-O) 咁(O-O) 講(O-O) ？(O-O) 大(O-O) 家(O-O) 一(O-O) 睇(O-O) 圖(O-O) 就(O-O) 知(O-O) 啦(O-O) ，(O-O) 佢(O-O) 有(O-O) 兩(O-O) 塊(O-O) 都(O-O) 幾(O-O) 厚(O-O) \n",
            "* Sentence 1:\n",
            "食(B-POS) 物(I-POS) o(O-O) k(O-O) 飲(B-NEG) 品(I-NEG) 唔(O-O) 得(O-O) 見(O-O) 有(O-O) 新(O-O) 野(O-O) 特(O-O) 登(O-O) 黎(O-O) 試(O-O) 下(O-O) 星(O-O) 期(O-O) 六(O-O) 晚(O-O) 上(O-O) 8(O-O) 時(O-O) 黎(O-O) 到(O-O) 都(O-O) 要(O-O) 略(O-O) 略(O-O) 等(O-O) 一(O-O) 等(O-O) 位(O-O) 黎(O-O) 之(O-O) 前(O-O) 上(O-O) 網(O-O) 見(O-O) 過(O-O) 啲(O-O) 報(O-O) 導(O-O) 推(O-O) 介(O-O) 紅(O-O) 豆(O-O) 冰(O-O) 一(O-O) 於(O-O) 加(O-O) $(O-O) 7(O-O) 試(O-O) 下(O-O) （(O-O) 原(O-O) 價(O-O) $(O-O) 2(O-O) 2(O-O) ）(O-O) 結(O-O) 果(O-O) .(O-O) .(O-O) .(O-O) .(O-O) .(O-O) .(O-O) 杯(O-O) 紅(B-NEG) 豆(I-NEG) 冰(I-NEG) 黎(O-O) 到(O-O) 已(O-O) 經(O-O) 成(O-O) 杯(O-O) 好(O-O) 力(O-O) 克(O-O) 咁(O-O) 咁(O-O) 白(O-O) 攪(O-O) 拌(O-O) 完(O-O) 都(O-O) 係(O-O) 白(O-O) 雪(O-O) 雪(O-O) 的(O-O) 極(O-O) 少(O-O) 紅(O-O) 豆(O-O) 成(O-O) 杯(O-O) 野(O-O) 飲(O-O) 我(O-O) 只(O-O) 係(O-O) 飲(O-O) 到(O-O) 淡(O-O) 奶(O-O) 味(O-O) 紅(O-O) 豆(O-O) 食(O-O) 落(O-O) 係(O-O) 淋(O-O) 同(O-O) 夠(O-O) 味(O-O) 既(O-O) 不(O-O) 過(O-O) 佔(O-O) 1(O-O) /(O-O) \n",
            "* Sentence 2:\n",
            "貴(O-O) 野(O-O) 亦(O-O) 都(O-O) 無(O-O) 好(O-O) 嘢(O-O) 見(O-O) 新(O-O) 開(O-O) 張(O-O) ，(O-O) 又(O-O) 無(O-O) 人(O-O) 排(O-O) 隊(O-O) ，(O-O) 同(O-O) 女(O-O) 友(O-O) 兩(O-O) 個(O-O) 嚟(O-O) 試(O-O) 下(O-O) ，(O-O) 點(O-O) 知(O-O) 中(O-O) 伏(O-O) 😰(O-O) .(O-O) .(O-O) .(O-O) .(O-O) .(O-O) .(O-O) .(O-O) .(O-O) 以(O-O) 為(O-O) 平(O-O) 嘢(O-O) 無(O-O) 好(O-O) 嘢(O-O) ，(O-O) 點(O-O) 知(O-O) 貴(O-O) 嘢(O-O) 都(O-O) 係(O-O) 無(O-O) 好(O-O) 嘢(O-O) .(O-O) .(O-O) .(O-O) .(O-O) .(O-O) .(O-O) 叫(O-O) 咗(O-O) 份(O-O) 韓(O-O) 式(O-O) 微(O-O) 辣(O-O) 年(O-O) 糕(O-O) ，(O-O) 點(O-O) 知(O-O) 喺(O-O) 辣(O-O) 味(O-O) 醬(O-O) 撈(O-O) 粉(O-O) 團(O-O) ，(O-O) 賣(O-O) 成(O-O) $(O-O) 2(O-O) 5(O-O) 一(O-O) 碟(O-O) 比(O-O) 人(O-O) ，(O-O) 仲(O-O) 要(O-O) 得(O-O) 果(O-O) 幾(O-O) 舊(O-O) ，(O-O) 食(O-O) 到(O-O) 一(O-O) 肚(O-O) 氣(O-O) 。(O-O) 劣(O-O) 評(O-O) .(O-O) .(O-O) .(O-O) .(O-O) .(O-O) 仲(O-O) 有(O-O) 果(O-O) 個(O-O) 餃(B-NEG) 子(I-NEG) 和(O-O) 牛(B-NEG) 漢(I-NEG) 堡(I-NEG) ，(O-O) 衰(O-O) 過(O-O) 食(O-O) \n",
            "* Sentence 3:\n",
            "多(O-O) 款(O-O) 吸(O-O) 引(O-O) 佐(O-O) 酒(O-O) 小(O-O) 食(O-O) 開(O-O) 業(O-O) 好(O-O) 像(O-O) 而(O-O) 達(O-O) 十(O-O) 年(O-O) 之(O-O) 居(O-O) 的(O-O) 居(O-O) 酒(O-O) 屋(O-O) ，(O-O) 朋(O-O) 友(O-O) 帶(O-O) 路(O-O) 下(O-O) 來(O-O) 嘗(O-O) 嘗(O-O) 。(O-O) 整(O-O) 個(O-O) 餐(B-POS) 牌(I-POS) 都(O-O) 好(O-O) 吸(O-O) 引(O-O) ，(O-O) 幾(O-O) 經(O-O) 辛(O-O) 苦(O-O) 先(O-O) 點(O-O) 咗(O-O) 一(O-O) 堆(O-O) 食(O-O) 物(O-O) 。(O-O) 當(O-O) 然(O-O) 先(O-O) 有(O-O) 爽(O-O) 脆(O-O) 海(O-O) 葡(O-O) 萄(O-O) ，(O-O) 點(O-O) 小(O-O) 小(O-O) 醋(O-O) 汁(O-O) ，(O-O) 吃(O-O) 得(O-O) 是(O-O) 口(O-O) 感(O-O) 。(O-O) 沖(B-POS) 繩(I-POS) 腐(I-POS) 乳(I-POS) ，(O-O) 質(B-NEG) 感(I-POS) 更(O-O) 似(O-O) 忌(O-O) 廉(O-O) 芝(O-O) 士(O-O) 札(O-O) 實(O-O) 啲(O-O) 。(O-O) 味(B-NEG) 道(I-NEG) 頭(O-O) 一(O-O) 啖(O-O) 有(O-O) 啲(O-O) 甜(O-O) ，(O-O) 之(O-O) 後(O-O) 有(O-O) 啲(O-O) 咸(O-O) 同(O-O) 苦(O-O) ，(O-O) 總(O-O) 之(O-O) 就(O-O) 怪(O-O) 怪(O-O) 地(O-O) 。(O-O) 辣(O-O) 辣(O-O) 地(O-O) 嘅(O-O) 韓(B-POS) 式(I-POS) 生(I-POS) 魚(I-POS) 腸(I-POS) ，(O-O) 好(O-O) \n",
            "* Sentence 4:\n",
            "野(O-O) 食(O-O) 一(O-O) 般(O-O) 蛋(B-POS) 撻(I-POS) 唔(O-O) 錯(O-O) 🍴(O-O) 蛋(O-O) 撻(O-O) 😃(O-O) 呢(O-O) 間(O-O) 車(O-O) 氏(O-O) 我(O-O) 都(O-O) 係(O-O) 朋(O-O) 友(O-O) 帶(O-O) 我(O-O) 黎(O-O) 我(O-O) 先(O-O) 第(O-O) 一(O-O) 次(O-O) 試(O-O) .(O-O) 坦(O-O) 白(O-O) 講(O-O) 野(O-O) 食(O-O) 一(O-O) 般(O-O) 但(O-O) 環(B-POS) 境(I-POS) 舒(O-O) 服(O-O) d(O-O) s(O-O) t(O-O) a(O-O) f(O-O) f(O-O) 連(O-O) 姐(O-O) 姐(O-O) 都(O-O) 好(O-O) 有(O-O) 禮(O-O) ,(O-O) 幾(O-O) 啱(O-O) h(O-O) i(O-O) g(O-O) h(O-O) t(O-O) e(O-O) a(O-O) 下(O-O) 同(O-O) 朋(O-O) 友(O-O) 傾(O-O) 野(O-O) 大(O-O) 家(O-O) 要(O-O) 預(O-O) 留(O-O) 野(O-O) 食(O-O) 都(O-O) 貴(O-O) 貴(O-O) 地(O-O) 😂(O-O) 一(O-O) 般(O-O) 既(O-O) 野(O-O) 食(O-O) 中(O-O) 唯(O-O) 獨(O-O) 個(O-O) 蛋(B-POS) 撻(I-POS) 唔(O-O) 錯(O-O) 細(O-O) 細(O-O) 個(O-O) 蛋(B-POS) 撻(I-POS) 熱(O-O) 辣(O-O) 辣(O-O) 佢(O-O) 個(O-O) 皮(I-POS) 好(O-O) 夠(O-O) 香(O-O) 脆(O-O) 厚(O-O) 身(O-O) 但(O-O) 唔(O-O) 會(O-O) 太(O-O) 痴(O-O) 牙(O-O) 入(O-O) 面(O-O) 都(O-O) 幾(O-O) 夠(O-O) 蛋(O-O) 香(O-O) \n",
            "* Sentence 5:\n",
            "真(O-O) 係(O-O) 新(O-O) 竹(O-O) 米(O-O) 粉(O-O) ？(O-O) 行(O-O) 完(O-O) 成(O-O) 日(O-O) 山(O-O) ，(O-O) 五(O-O) 點(O-O) 嚟(O-O) 到(O-O) 呢(O-O) 度(O-O) 諗(O-O) 住(O-O) 食(O-O) 個(O-O) 台(O-O) 式(O-O) 下(O-O) 午(O-O) 茶(O-O) 。(O-O) 打(O-O) 開(O-O) m(O-O) e(O-O) n(O-O) u(O-O) ，(O-O) 發(O-O) 覺(O-O) 餐(O-O) 牌(O-O) 有(O-O) 八(O-O) 、(O-O) 九(O-O) 成(O-O) 係(O-O) 港(O-O) 式(O-O) 食(O-O) 物(O-O) …(O-O) 咁(O-O) 點(O-O) 解(O-O) 要(O-O) 打(O-O) 住(O-O) 台(O-O) 灣(O-O) 菜(O-O) 既(O-O) 旗(O-O) 號(O-O) ？(O-O) 叫(O-O) 咗(O-O) 個(O-O) 台(O-O) 式(O-O) 新(O-O) 竹(O-O) 米(O-O) 粉(O-O) 餐(O-O) ，(O-O) 下(O-O) 午(O-O) 茶(O-O) 時(O-O) 間(O-O) -(O-O) $(O-O) 3(O-O) ，(O-O) 連(O-O) 普(O-O) 通(O-O) 野(O-O) 飲(O-O) 。(O-O) ((O-O) $(O-O) 3(O-O) 7(O-O) )(O-O) 問(O-O) 店(O-O) 員(O-O) 轉(O-O) 珍(O-O) 珠(O-O) 奶(O-O) 茶(O-O) 加(O-O) 幾(O-O) 錢(O-O) ，(O-O) 佢(O-O) 答(O-O) 加(O-O) $(O-O) 1(O-O) 0(O-O) ！(O-O) 本(O-O) 身(O-O) 差(O-O) 價(O-O) 只(O-O) 係(O-O) $(O-O) 5(O-O) 咋(O-O) 喎(O-O) ，(O-O) 你(O-O) 唔(O-O) \n",
            "* Sentence 6:\n",
            "收(O-O) 工(O-O) 去(O-O) 食(O-O) 日(O-O) 本(O-O) 料(O-O) 理(O-O) 😍(O-O) 長(O-O) 沙(O-O) 灣(O-O) 一(O-O) 向(O-O) 多(O-O) 餐(O-O) 廳(O-O) 仔(O-O) ，(O-O) 但(O-O) 好(O-O) 少(O-O) 日(O-O) 本(O-O) 料(O-O) 理(O-O) ，(O-O) 呢(O-O) 間(O-O) 都(O-O) 算(O-O) 係(O-O) 質(O-O) 素(O-O) 幾(O-O) 好(O-O) 既(O-O) 選(O-O) 擇(O-O) Y(O-O) u(O-O) y(O-O) u(O-O) 黃(B-POS) 金(I-POS) 卷(I-POS) ((O-O) 芝(B-POS) 士(I-POS) 、(O-O) 吉(B-POS) 列(I-POS) 蝦(O-O) )(O-O) 見(O-O) 係(O-O) 招(O-O) 牌(O-O) 野(O-O) 就(O-O) 一(O-O) 試(O-O) 啦(O-O) 芝(B-POS) 士(I-POS) 輕(O-O) 輕(O-O) 燒(O-O) 過(O-O) 下(O-O) 都(O-O) 幾(O-O) 靚(O-O) ☺(O-O) ️(O-O) 炸(B-POS) 蝦(I-POS) 反(O-O) 卷(O-O) 正(O-O) 常(O-O) 質(O-O) 素(O-O) 啦(O-O) ，(O-O) 但(O-O) 食(O-O) 落(O-O) 都(O-O) 唔(O-O) 漏(O-O) 既(O-O) ‧(O-O) 精(O-O) 選(O-O) 串(O-O) 燒(O-O) 、(O-O) 壽(O-O) 司(O-O) 4(O-O) 客(O-O) 以(O-O) 上(O-O) 有(O-O) 8(O-O) 折(O-O) ·(O-O) 另(O-O) 外(O-O) 有(O-O) 張(O-O) 紙(O-O) 仔(O-O) 比(O-O) 客(O-O) 人(O-O) 剔(O-O) 既(O-O) 壽(O-O) 司(O-O) 有(O-O) 一(O-O) 客(O-O) 有(O-O) 兩(O-O) 件(O-O) \n",
            "* Sentence 7:\n",
            "平(O-O) 安(O-O) 馬(O-O) 卡(O-O) 龍(O-O) 上(O-O) 網(O-O) 見(O-O) 到(O-O) 呢(O-O) 間(O-O) 有(O-O) 平(O-O) 安(O-O) 馬(O-O) 卡(O-O) 龍(O-O) 買(O-O) ,(O-O) 咁(O-O) 得(O-O) 意(O-O) ,(O-O) 於(O-O) 是(O-O) 即(O-O) 去(O-O) 睇(O-O) 下(O-O) 呀(O-O) 。(O-O) 平(O-O) 安(O-O) 馬(O-O) 卡(O-O) 龍(O-O) ,(O-O) 每(O-O) 個(O-O) $(O-O) 1(O-O) 5(O-O) 。(O-O) 買(O-O) 左(O-O) 兩(O-O) 個(O-O) 來(O-O) 試(O-O) ,(O-O) 造(B-POS) 型(I-POS) 同(O-O) 平(O-O) 安(O-O) 包(O-O) 一(O-O) 樣(O-O) ,(O-O) 好(O-O) 得(O-O) 意(O-O) 呀(O-O) 。(O-O) 味(B-POS) 道(I-POS) 果(O-O) 然(O-O) 好(O-O) 甜(O-O) ,(O-O) 有(O-O) 少(O-O) 少(O-O) 茉(O-O) 莉(O-O) 香(O-O) ,(O-O) 貪(O-O) 過(O-O) 癮(O-O) 可(O-O) 試(O-O) 下(O-O) 呀(O-O) 。(O-O) \n",
            "* Sentence 8:\n",
            "食(B-NEG) 物(I-NEG) 差(O-O) ，(O-O) 服(B-NEG) 務(I-NEG) 態(I-NEG) 度(I-NEG) 仲(O-O) 差(O-O) ！(O-O) 😡(O-O) 從(O-O) 來(O-O) 無(O-O) 打(O-O) 過(O-O) 食(O-O) 評(O-O) ，(O-O) 但(O-O) 今(O-O) 次(O-O) 決(O-O) 定(O-O) 打(O-O) 上(O-O) 黎(O-O) 。(O-O) 大(O-O) 澳(O-O) 天(O-O) 氣(O-O) 熱(O-O) ，(O-O) 諗(O-O) 住(O-O) 買(O-O) 啲(O-O) 冰(O-O) 涼(O-O) 既(O-O) 野(O-O) 食(O-O) 下(O-O) 。(O-O) 見(O-O) 到(O-O) 威(O-O) 尼(O-O) 斯(O-O) 酒(O-O) 家(O-O) 出(O-O) 面(O-O) 有(O-O) 新(O-O) 鮮(O-O) 冰(O-O) 波(O-O) 蘿(O-O) 同(O-O) 西(O-O) 瓜(O-O) 食(O-O) ，(O-O) 每(O-O) 個(O-O) 塊(O-O) 十(O-O) 蚊(O-O) 。(O-O) 價(B-NEG) 錢(I-NEG) 唔(O-O) 係(O-O) 平(O-O) ，(O-O) 但(O-O) 遊(O-O) 客(O-O) 地(O-O) 區(O-O) 好(O-O) 多(O-O) 人(O-O) 唔(O-O) 愁(O-O) 無(O-O) 客(O-O) ，(O-O) 都(O-O) 買(O-O) 黎(O-O) 試(O-O) 下(O-O) ，(O-O) 要(O-O) 冰(O-O) 西(O-O) 瓜(O-O) 同(O-O) 冰(O-O) 菠(O-O) 蘿(O-O) 各(O-O) 兩(O-O) 塊(O-O) ，(O-O) 俾(O-O) 左(O-O) 4(O-O) 0(O-O) 蚊(O-O) 之(O-O) 後(O-O) ，(O-O) 個(O-O) 男(O-O) 人(O-O) 俾(O-O) 左(O-O) 啲(O-O) 唔(O-O) 冰(O-O) 既(O-O) 我(O-O) \n",
            "* Sentence 9:\n",
            "九(O-O) 龍(O-O) 城(O-O) 有(O-O) 個(O-O) 小(O-O) 曼(O-O) 谷(O-O) 😜(O-O) 九(O-O) 龍(O-O) 城(O-O) 有(O-O) 個(O-O) 小(O-O) 曼(O-O) 谷(O-O) 😜(O-O) 對(O-O) 小(O-O) 曼(O-O) 谷(O-O) 最(O-O) 印(O-O) 象(O-O) 深(O-O) 刻(O-O) 嘅(O-O) 莫(O-O) 過(O-O) 於(O-O) 門(O-O) 口(O-O) 一(O-O) 直(O-O) 向(O-O) 你(O-O) 揮(O-O) 手(O-O) 嘅(O-O) 吹(O-O) 氣(O-O) 公(O-O) 仔(O-O) 😝(O-O) 聽(O-O) 人(O-O) 講(O-O) 呢(O-O) 間(O-O) 餐(O-O) 廳(O-O) 嘅(O-O) 泰(B-POS) 國(I-POS) 菜(I-POS) 非(O-O) 常(O-O) 高(O-O) 質(O-O) 今(O-O) 次(O-O) 終(O-O) 於(O-O) 可(O-O) 以(O-O) 一(O-O) 試(O-O) 了(O-O) ！(O-O) 見(O-O) 到(O-O) 裏(O-O) 面(O-O) 有(O-O) l(O-O) i(O-O) v(O-O) e(O-O) B(O-O) a(O-O) n(O-O) d(O-O) 嘅(O-O) 不(O-O) 過(O-O) 九(O-O) 點(O-O) 先(O-O) 開(O-O) 始(O-O) 所(O-O) 以(O-O) 無(O-O) 緣(O-O) 聽(O-O) 歌(O-O) 仔(O-O) 啦(O-O) 🙈(O-O) 🔸(O-O) 明(B-POS) 爐(I-POS) 香(I-POS) 檸(I-POS) 汁(I-POS) 蒸(I-POS) 桂(I-POS) 花(I-POS) 魚(I-POS) $(O-O) 2(O-O) 4(O-O) 8(O-O) 去(O-O) 到(O-O) 每(O-O) 一(O-O) 間(O-O) 泰(O-O) 國(O-O) 餐(O-O) 廳(O-O) 都(O-O) 會(O-O) 叫(O-O) 明(O-O) \n"
          ],
          "name": "stdout"
        }
      ]
    }
  ]
}