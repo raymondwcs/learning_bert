{
  "nbformat": 4,
  "nbformat_minor": 0,
  "metadata": {
    "colab": {
      "name": "Sentiment Analysis (hugging face pipeline, uer/roberta-base-finetuned-jd-full-chinese).ipynb",
      "provenance": [],
      "authorship_tag": "ABX9TyOAC0CZbC5vsmBIK98rxxh8",
      "include_colab_link": true
    },
    "kernelspec": {
      "name": "python3",
      "display_name": "Python 3"
    },
    "language_info": {
      "name": "python"
    }
  },
  "cells": [
    {
      "cell_type": "markdown",
      "metadata": {
        "id": "view-in-github",
        "colab_type": "text"
      },
      "source": [
        "<a href=\"https://colab.research.google.com/github/raymondwcs/learning_bert/blob/master/Sentiment_Analysis_(hugging_face_pipeline%2C_uer_roberta_base_finetuned_jd_full_chinese).ipynb\" target=\"_parent\"><img src=\"https://colab.research.google.com/assets/colab-badge.svg\" alt=\"Open In Colab\"/></a>"
      ]
    },
    {
      "cell_type": "code",
      "metadata": {
        "id": "fFjkIxP5DUvm"
      },
      "source": [
        "!pip install --quiet transformers\n",
        "from transformers import AutoModelForSequenceClassification,AutoTokenizer,pipeline"
      ],
      "execution_count": 63,
      "outputs": []
    },
    {
      "cell_type": "code",
      "metadata": {
        "colab": {
          "base_uri": "https://localhost:8080/"
        },
        "id": "Nqj44ARNjQtP",
        "outputId": "b4196f39-9480-4581-ed74-e860f17f40a8"
      },
      "source": [
        "CHECKPOINT = 'uer/roberta-base-finetuned-jd-full-chinese'  # https://huggingface.co/uer/roberta-base-finetuned-jd-full-chinese\n",
        "model = AutoModelForSequenceClassification.from_pretrained(CHECKPOINT)\n",
        "tokenizer = AutoTokenizer.from_pretrained(CHECKPOINT)\n",
        "\n",
        "classifier = pipeline('sentiment-analysis', model=model, tokenizer=tokenizer)\n",
        "sentences = [\n",
        "  '芒果大合奏~ 次次去都係食呢個，好多層次的芒果，有芒果乾，芒果布丁，芒果肉，芒果雪糕，芒果漿，不同texture, 感覺真係好rich~ 大滿足',\n",
        "  '但係我地黎既目的係食韓燒，點知種類賣相真係嚇死你！啲肉好似冇奄過咁！啲牛肉粒仲瘦過瘦肉，都算啦！點知所有野食燒完後完全冇味！',\n",
        "  '這個服務生很不親切'\n",
        "]\n",
        "\n",
        "classifier(sentences)\n"
      ],
      "execution_count": 66,
      "outputs": [
        {
          "output_type": "execute_result",
          "data": {
            "text/plain": [
              "[{'label': 'star 5', 'score': 0.8894888162612915},\n",
              " {'label': 'star 2', 'score': 0.5215009450912476},\n",
              " {'label': 'star 1', 'score': 0.39362475275993347}]"
            ]
          },
          "metadata": {
            "tags": []
          },
          "execution_count": 66
        }
      ]
    }
  ]
}